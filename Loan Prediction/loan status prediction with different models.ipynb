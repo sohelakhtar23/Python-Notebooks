{
 "cells": [
  {
   "cell_type": "code",
   "execution_count": 1,
   "id": "7bf8c4bc",
   "metadata": {
    "execution": {
     "iopub.execute_input": "2022-12-28T06:56:19.814566Z",
     "iopub.status.busy": "2022-12-28T06:56:19.814085Z",
     "iopub.status.idle": "2022-12-28T06:56:21.323433Z",
     "shell.execute_reply": "2022-12-28T06:56:21.321686Z"
    },
    "papermill": {
     "duration": 1.523495,
     "end_time": "2022-12-28T06:56:21.326456",
     "exception": false,
     "start_time": "2022-12-28T06:56:19.802961",
     "status": "completed"
    },
    "tags": []
   },
   "outputs": [],
   "source": [
    "import pandas as pd\n",
    "import numpy as np\n",
    "import matplotlib.pyplot as plt\n",
    "import seaborn as sns\n",
    "\n",
    "from sklearn.model_selection import train_test_split\n",
    "from sklearn.preprocessing import OrdinalEncoder\n",
    "from xgboost import XGBClassifier\n",
    "\n",
    "from sklearn.metrics import accuracy_score\n",
    "from sklearn.linear_model import LogisticRegression\n",
    "from sklearn.tree import DecisionTreeClassifier"
   ]
  },
  {
   "attachments": {},
   "cell_type": "markdown",
   "id": "d847012f",
   "metadata": {},
   "source": [
    "The dataset has been taken from Kaggle https://www.kaggle.com/datasets/altruistdelhite04/loan-prediction-problem-dataset"
   ]
  },
  {
   "cell_type": "code",
   "execution_count": 2,
   "id": "d99a2b79",
   "metadata": {
    "execution": {
     "iopub.execute_input": "2022-12-28T06:56:21.345107Z",
     "iopub.status.busy": "2022-12-28T06:56:21.344695Z",
     "iopub.status.idle": "2022-12-28T06:56:21.412818Z",
     "shell.execute_reply": "2022-12-28T06:56:21.411523Z"
    },
    "papermill": {
     "duration": 0.081112,
     "end_time": "2022-12-28T06:56:21.416015",
     "exception": false,
     "start_time": "2022-12-28T06:56:21.334903",
     "status": "completed"
    },
    "tags": []
   },
   "outputs": [
    {
     "name": "stdout",
     "output_type": "stream",
     "text": [
      "<class 'pandas.core.frame.DataFrame'>\n",
      "RangeIndex: 614 entries, 0 to 613\n",
      "Data columns (total 13 columns):\n",
      " #   Column             Non-Null Count  Dtype  \n",
      "---  ------             --------------  -----  \n",
      " 0   Loan_ID            614 non-null    object \n",
      " 1   Gender             601 non-null    object \n",
      " 2   Married            611 non-null    object \n",
      " 3   Dependents         599 non-null    object \n",
      " 4   Education          614 non-null    object \n",
      " 5   Self_Employed      582 non-null    object \n",
      " 6   ApplicantIncome    614 non-null    int64  \n",
      " 7   CoapplicantIncome  614 non-null    float64\n",
      " 8   LoanAmount         592 non-null    float64\n",
      " 9   Loan_Amount_Term   600 non-null    float64\n",
      " 10  Credit_History     564 non-null    float64\n",
      " 11  Property_Area      614 non-null    object \n",
      " 12  Loan_Status        614 non-null    object \n",
      "dtypes: float64(4), int64(1), object(8)\n",
      "memory usage: 62.5+ KB\n",
      "None\n",
      "------------------------------------------------------------\n"
     ]
    },
    {
     "data": {
      "text/html": [
       "<div>\n",
       "<style scoped>\n",
       "    .dataframe tbody tr th:only-of-type {\n",
       "        vertical-align: middle;\n",
       "    }\n",
       "\n",
       "    .dataframe tbody tr th {\n",
       "        vertical-align: top;\n",
       "    }\n",
       "\n",
       "    .dataframe thead th {\n",
       "        text-align: right;\n",
       "    }\n",
       "</style>\n",
       "<table border=\"1\" class=\"dataframe\">\n",
       "  <thead>\n",
       "    <tr style=\"text-align: right;\">\n",
       "      <th></th>\n",
       "      <th>Loan_ID</th>\n",
       "      <th>Gender</th>\n",
       "      <th>Married</th>\n",
       "      <th>Dependents</th>\n",
       "      <th>Education</th>\n",
       "      <th>Self_Employed</th>\n",
       "      <th>ApplicantIncome</th>\n",
       "      <th>CoapplicantIncome</th>\n",
       "      <th>LoanAmount</th>\n",
       "      <th>Loan_Amount_Term</th>\n",
       "      <th>Credit_History</th>\n",
       "      <th>Property_Area</th>\n",
       "      <th>Loan_Status</th>\n",
       "    </tr>\n",
       "  </thead>\n",
       "  <tbody>\n",
       "    <tr>\n",
       "      <th>0</th>\n",
       "      <td>LP001002</td>\n",
       "      <td>Male</td>\n",
       "      <td>No</td>\n",
       "      <td>0</td>\n",
       "      <td>Graduate</td>\n",
       "      <td>No</td>\n",
       "      <td>5849</td>\n",
       "      <td>0.0</td>\n",
       "      <td>NaN</td>\n",
       "      <td>360.0</td>\n",
       "      <td>1.0</td>\n",
       "      <td>Urban</td>\n",
       "      <td>Y</td>\n",
       "    </tr>\n",
       "    <tr>\n",
       "      <th>1</th>\n",
       "      <td>LP001003</td>\n",
       "      <td>Male</td>\n",
       "      <td>Yes</td>\n",
       "      <td>1</td>\n",
       "      <td>Graduate</td>\n",
       "      <td>No</td>\n",
       "      <td>4583</td>\n",
       "      <td>1508.0</td>\n",
       "      <td>128.0</td>\n",
       "      <td>360.0</td>\n",
       "      <td>1.0</td>\n",
       "      <td>Rural</td>\n",
       "      <td>N</td>\n",
       "    </tr>\n",
       "    <tr>\n",
       "      <th>2</th>\n",
       "      <td>LP001005</td>\n",
       "      <td>Male</td>\n",
       "      <td>Yes</td>\n",
       "      <td>0</td>\n",
       "      <td>Graduate</td>\n",
       "      <td>Yes</td>\n",
       "      <td>3000</td>\n",
       "      <td>0.0</td>\n",
       "      <td>66.0</td>\n",
       "      <td>360.0</td>\n",
       "      <td>1.0</td>\n",
       "      <td>Urban</td>\n",
       "      <td>Y</td>\n",
       "    </tr>\n",
       "    <tr>\n",
       "      <th>3</th>\n",
       "      <td>LP001006</td>\n",
       "      <td>Male</td>\n",
       "      <td>Yes</td>\n",
       "      <td>0</td>\n",
       "      <td>Not Graduate</td>\n",
       "      <td>No</td>\n",
       "      <td>2583</td>\n",
       "      <td>2358.0</td>\n",
       "      <td>120.0</td>\n",
       "      <td>360.0</td>\n",
       "      <td>1.0</td>\n",
       "      <td>Urban</td>\n",
       "      <td>Y</td>\n",
       "    </tr>\n",
       "    <tr>\n",
       "      <th>4</th>\n",
       "      <td>LP001008</td>\n",
       "      <td>Male</td>\n",
       "      <td>No</td>\n",
       "      <td>0</td>\n",
       "      <td>Graduate</td>\n",
       "      <td>No</td>\n",
       "      <td>6000</td>\n",
       "      <td>0.0</td>\n",
       "      <td>141.0</td>\n",
       "      <td>360.0</td>\n",
       "      <td>1.0</td>\n",
       "      <td>Urban</td>\n",
       "      <td>Y</td>\n",
       "    </tr>\n",
       "  </tbody>\n",
       "</table>\n",
       "</div>"
      ],
      "text/plain": [
       "    Loan_ID Gender Married Dependents     Education Self_Employed  \\\n",
       "0  LP001002   Male      No          0      Graduate            No   \n",
       "1  LP001003   Male     Yes          1      Graduate            No   \n",
       "2  LP001005   Male     Yes          0      Graduate           Yes   \n",
       "3  LP001006   Male     Yes          0  Not Graduate            No   \n",
       "4  LP001008   Male      No          0      Graduate            No   \n",
       "\n",
       "   ApplicantIncome  CoapplicantIncome  LoanAmount  Loan_Amount_Term  \\\n",
       "0             5849                0.0         NaN             360.0   \n",
       "1             4583             1508.0       128.0             360.0   \n",
       "2             3000                0.0        66.0             360.0   \n",
       "3             2583             2358.0       120.0             360.0   \n",
       "4             6000                0.0       141.0             360.0   \n",
       "\n",
       "   Credit_History Property_Area Loan_Status  \n",
       "0             1.0         Urban           Y  \n",
       "1             1.0         Rural           N  \n",
       "2             1.0         Urban           Y  \n",
       "3             1.0         Urban           Y  \n",
       "4             1.0         Urban           Y  "
      ]
     },
     "execution_count": 2,
     "metadata": {},
     "output_type": "execute_result"
    }
   ],
   "source": [
    "data = pd.read_csv('dataset.csv')\n",
    "print(data.info())\n",
    "\n",
    "print(\"-\"*60)\n",
    "data.head()"
   ]
  },
  {
   "cell_type": "code",
   "execution_count": 3,
   "id": "9dac79a4",
   "metadata": {
    "execution": {
     "iopub.execute_input": "2022-12-28T06:56:21.435277Z",
     "iopub.status.busy": "2022-12-28T06:56:21.434540Z",
     "iopub.status.idle": "2022-12-28T06:56:21.441227Z",
     "shell.execute_reply": "2022-12-28T06:56:21.440328Z"
    },
    "papermill": {
     "duration": 0.018685,
     "end_time": "2022-12-28T06:56:21.443281",
     "exception": false,
     "start_time": "2022-12-28T06:56:21.424596",
     "status": "completed"
    },
    "tags": []
   },
   "outputs": [
    {
     "data": {
      "text/plain": [
       "(614, 13)"
      ]
     },
     "execution_count": 3,
     "metadata": {},
     "output_type": "execute_result"
    }
   ],
   "source": [
    "data.shape"
   ]
  },
  {
   "cell_type": "markdown",
   "id": "c79eb8be",
   "metadata": {
    "papermill": {
     "duration": 0.008132,
     "end_time": "2022-12-28T06:56:21.460059",
     "exception": false,
     "start_time": "2022-12-28T06:56:21.451927",
     "status": "completed"
    },
    "tags": []
   },
   "source": [
    "# Visualizing the data"
   ]
  },
  {
   "cell_type": "code",
   "execution_count": 4,
   "id": "22f65309",
   "metadata": {
    "execution": {
     "iopub.execute_input": "2022-12-28T06:56:21.479673Z",
     "iopub.status.busy": "2022-12-28T06:56:21.478862Z",
     "iopub.status.idle": "2022-12-28T06:56:21.966055Z",
     "shell.execute_reply": "2022-12-28T06:56:21.965138Z"
    },
    "papermill": {
     "duration": 0.4998,
     "end_time": "2022-12-28T06:56:21.968241",
     "exception": false,
     "start_time": "2022-12-28T06:56:21.468441",
     "status": "completed"
    },
    "tags": []
   },
   "outputs": [
    {
     "data": {
      "text/plain": [
       "Text(0.5, 0, 'Applicant Income')"
      ]
     },
     "execution_count": 4,
     "metadata": {},
     "output_type": "execute_result"
    },
    {
     "data": {
      "image/png": "[encoded data removed]",
      "text/plain": [
       "<Figure size 864x432 with 1 Axes>"
      ]
     },
     "metadata": {
      "needs_background": "light"
     },
     "output_type": "display_data"
    }
   ],
   "source": [
    "plt.figure(figsize=(12,6))\n",
    "sns.histplot(data=data, x='ApplicantIncome', hue='Loan_Status', bins=30)\n",
    "plt.xlabel(\"Applicant Income\", fontsize=20)"
   ]
  },
  {
   "cell_type": "code",
   "execution_count": 5,
   "id": "437e7a13",
   "metadata": {
    "execution": {
     "iopub.execute_input": "2022-12-28T06:56:21.989669Z",
     "iopub.status.busy": "2022-12-28T06:56:21.989071Z",
     "iopub.status.idle": "2022-12-28T06:56:22.198132Z",
     "shell.execute_reply": "2022-12-28T06:56:22.197265Z"
    },
    "papermill": {
     "duration": 0.221907,
     "end_time": "2022-12-28T06:56:22.200470",
     "exception": false,
     "start_time": "2022-12-28T06:56:21.978563",
     "status": "completed"
    },
    "tags": []
   },
   "outputs": [
    {
     "data": {
      "image/png": "[encoded data removed]",
      "text/plain": [
       "<Figure size 432x288 with 1 Axes>"
      ]
     },
     "metadata": {
      "needs_background": "light"
     },
     "output_type": "display_data"
    }
   ],
   "source": [
    "# Plotting the Loan Status i.e how much applicants are granted for loan\n",
    "\n",
    "def show_percent_bars(ax, feature):\n",
    "    # Shows the percentage of data above bar graphs\n",
    "    \n",
    "    total = len(feature)\n",
    "    for p in ax.patches:\n",
    "        percentage = '{:.1f}%'.format(100 * p.get_height()/total)\n",
    "        x = p.get_x() + p.get_width() / 2 - 0.05\n",
    "        y = p.get_y() + p.get_height()\n",
    "        ax.annotate(percentage, (x, y), size = 12)\n",
    "        \n",
    "ax = sns.countplot(data=data, x='Loan_Status')\n",
    "ax.set_title(\"Loan Status\", fontsize=20)\n",
    "show_percent_bars(ax, data.Loan_Status)"
   ]
  },
  {
   "cell_type": "code",
   "execution_count": 6,
   "id": "c61d7929",
   "metadata": {
    "execution": {
     "iopub.execute_input": "2022-12-28T06:56:22.220926Z",
     "iopub.status.busy": "2022-12-28T06:56:22.220260Z",
     "iopub.status.idle": "2022-12-28T06:56:23.205166Z",
     "shell.execute_reply": "2022-12-28T06:56:23.203904Z"
    },
    "papermill": {
     "duration": 0.998066,
     "end_time": "2022-12-28T06:56:23.207612",
     "exception": false,
     "start_time": "2022-12-28T06:56:22.209546",
     "status": "completed"
    },
    "tags": []
   },
   "outputs": [
    {
     "data": {
      "text/plain": [
       "Text(0.5, 1.0, 'Dependents')"
      ]
     },
     "execution_count": 6,
     "metadata": {},
     "output_type": "execute_result"
    },
    {
     "data": {
      "image/png": "[encoded data removed]",
      "text/plain": [
       "<Figure size 1440x576 with 6 Axes>"
      ]
     },
     "metadata": {
      "needs_background": "light"
     },
     "output_type": "display_data"
    }
   ],
   "source": [
    "# making subplots\n",
    "fig, axes = plt.subplots(2, 3, figsize=(20,8))\n",
    "\n",
    "# set the spacing between subplots\n",
    "plt.subplots_adjust(left=0.1,\n",
    "                    bottom=0.1,\n",
    "                    right=0.9,\n",
    "                    top=0.9,\n",
    "                    wspace=0.4,\n",
    "                    hspace=0.4)\n",
    "\n",
    "axes[0,0].set_title('Credit History', fontsize=20)\n",
    "sns.countplot(ax=axes[0,0], data=data, x='Credit_History', hue='Loan_Status')\n",
    "\n",
    "sns.countplot(ax=axes[0,1], data=data, x='Education', hue='Loan_Status')\n",
    "axes[0,1].set_title(\"Education\", fontsize=20)\n",
    "\n",
    "sns.countplot(ax=axes[0,2], data=data, x='Gender',hue='Loan_Status')\n",
    "axes[0,2].set_title(\"Gender\", fontsize=20)\n",
    "\n",
    "\n",
    "\n",
    "sns.countplot(ax=axes[1,0], data=data, x='Married',hue='Loan_Status')\n",
    "axes[1,0].set_title(\"Married\", fontsize=20)\n",
    "\n",
    "\n",
    "sns.countplot(ax=axes[1,1], data=data, x='Property_Area', hue='Loan_Status')\n",
    "axes[1,1].set_title(\"Property Area\", fontsize=20)\n",
    "\n",
    "sns.countplot(ax=axes[1,2], data=data, x='Dependents', hue='Loan_Status')\n",
    "axes[1,2].set_title(\"Dependents\", fontsize=20)"
   ]
  },
  {
   "cell_type": "code",
   "execution_count": 7,
   "id": "7519107a",
   "metadata": {
    "execution": {
     "iopub.execute_input": "2022-12-28T06:56:23.229737Z",
     "iopub.status.busy": "2022-12-28T06:56:23.228698Z",
     "iopub.status.idle": "2022-12-28T06:56:23.235274Z",
     "shell.execute_reply": "2022-12-28T06:56:23.234441Z"
    },
    "papermill": {
     "duration": 0.019917,
     "end_time": "2022-12-28T06:56:23.237327",
     "exception": false,
     "start_time": "2022-12-28T06:56:23.217410",
     "status": "completed"
    },
    "tags": []
   },
   "outputs": [
    {
     "data": {
      "text/html": [
       "<style>\n",
       "    table {float:left}\n",
       "</style>\n"
      ],
      "text/plain": [
       "<IPython.core.display.HTML object>"
      ]
     },
     "metadata": {},
     "output_type": "display_data"
    }
   ],
   "source": [
    "%%html\n",
    "<style>\n",
    "    table {float:left}\n",
    "</style>"
   ]
  },
  {
   "cell_type": "markdown",
   "id": "fbb69d7a",
   "metadata": {
    "papermill": {
     "duration": 0.009638,
     "end_time": "2022-12-28T06:56:23.256922",
     "exception": false,
     "start_time": "2022-12-28T06:56:23.247284",
     "status": "completed"
    },
    "tags": []
   },
   "source": [
    "# Let us draw some conclusions from diagrams\n",
    "\n",
    "|   Column      | Description                                                              | What kind of feature |\n",
    "|:--------------|:------------------------------------------------------------------------|:--------------------:|\n",
    "|Credit History | Applicant having Credit History as 1 has high chance of getting loan     |    Important         |\n",
    "|   Education   | Graduates seem to have a greater chance of receving loan                    |    good         |\n",
    "|   Gender      | Does not seem any particular trend of gender                             |   not Important      |\n",
    "|   Married     | Seems high chance of receving loan if you are married                    |    good         |\n",
    "| Property Area | Applicant having property area in Semiurban has high chance of getting loan<br/> while in Urban area has a good chance|    Important   |\n",
    "| Dependents    | little greater chance if dependent is 0                                  |   less Important      |\n",
    "|Applicant Income    | No pattern                                 |   less Important      |\n"
   ]
  },
  {
   "cell_type": "markdown",
   "id": "4eee117e",
   "metadata": {
    "papermill": {
     "duration": 0.009479,
     "end_time": "2022-12-28T06:56:23.276260",
     "exception": false,
     "start_time": "2022-12-28T06:56:23.266781",
     "status": "completed"
    },
    "tags": []
   },
   "source": [
    "# Handling Null values in each Columns"
   ]
  },
  {
   "cell_type": "code",
   "execution_count": 8,
   "id": "498f63aa",
   "metadata": {
    "execution": {
     "iopub.execute_input": "2022-12-28T06:56:23.298281Z",
     "iopub.status.busy": "2022-12-28T06:56:23.297318Z",
     "iopub.status.idle": "2022-12-28T06:56:23.307080Z",
     "shell.execute_reply": "2022-12-28T06:56:23.305940Z"
    },
    "papermill": {
     "duration": 0.023082,
     "end_time": "2022-12-28T06:56:23.309247",
     "exception": false,
     "start_time": "2022-12-28T06:56:23.286165",
     "status": "completed"
    },
    "tags": []
   },
   "outputs": [
    {
     "data": {
      "text/plain": [
       "Loan_ID               0\n",
       "Gender               13\n",
       "Married               3\n",
       "Dependents           15\n",
       "Education             0\n",
       "Self_Employed        32\n",
       "ApplicantIncome       0\n",
       "CoapplicantIncome     0\n",
       "LoanAmount           22\n",
       "Loan_Amount_Term     14\n",
       "Credit_History       50\n",
       "Property_Area         0\n",
       "Loan_Status           0\n",
       "dtype: int64"
      ]
     },
     "execution_count": 8,
     "metadata": {},
     "output_type": "execute_result"
    }
   ],
   "source": [
    "data.isnull().sum()"
   ]
  },
  {
   "cell_type": "code",
   "execution_count": 9,
   "id": "f6b19dc9",
   "metadata": {
    "execution": {
     "iopub.execute_input": "2022-12-28T06:56:23.331744Z",
     "iopub.status.busy": "2022-12-28T06:56:23.330771Z",
     "iopub.status.idle": "2022-12-28T06:56:23.338441Z",
     "shell.execute_reply": "2022-12-28T06:56:23.337213Z"
    },
    "papermill": {
     "duration": 0.023038,
     "end_time": "2022-12-28T06:56:23.342316",
     "exception": false,
     "start_time": "2022-12-28T06:56:23.319278",
     "status": "completed"
    },
    "tags": []
   },
   "outputs": [
    {
     "name": "stdout",
     "output_type": "stream",
     "text": [
      "Numerical cols   :  ['ApplicantIncome', 'CoapplicantIncome', 'LoanAmount', 'Loan_Amount_Term', 'Credit_History']\n",
      "Categorical cols :  ['Loan_ID', 'Gender', 'Married', 'Dependents', 'Education', 'Self_Employed', 'Property_Area', 'Loan_Status']\n"
     ]
    }
   ],
   "source": [
    "# separating numerical columns and Categorical columns\n",
    "num_cols = []\n",
    "cat_cols = []\n",
    "\n",
    "for col in data.columns:\n",
    "    if data[col].dtype == object:\n",
    "        cat_cols.append(col)\n",
    "    else:\n",
    "        num_cols.append(col)\n",
    "\n",
    "print(\"Numerical cols   : \",num_cols)\n",
    "print(\"Categorical cols : \", cat_cols)"
   ]
  },
  {
   "cell_type": "code",
   "execution_count": 10,
   "id": "3ac0e3a1",
   "metadata": {
    "execution": {
     "iopub.execute_input": "2022-12-28T06:56:23.366748Z",
     "iopub.status.busy": "2022-12-28T06:56:23.366337Z",
     "iopub.status.idle": "2022-12-28T06:56:23.374449Z",
     "shell.execute_reply": "2022-12-28T06:56:23.372827Z"
    },
    "papermill": {
     "duration": 0.022489,
     "end_time": "2022-12-28T06:56:23.376945",
     "exception": false,
     "start_time": "2022-12-28T06:56:23.354456",
     "status": "completed"
    },
    "tags": []
   },
   "outputs": [],
   "source": [
    "df_num = data[num_cols]\n",
    "df_cat = data[cat_cols]"
   ]
  },
  {
   "cell_type": "code",
   "execution_count": 11,
   "id": "4786ec35",
   "metadata": {
    "execution": {
     "iopub.execute_input": "2022-12-28T06:56:23.400445Z",
     "iopub.status.busy": "2022-12-28T06:56:23.399581Z",
     "iopub.status.idle": "2022-12-28T06:56:23.415124Z",
     "shell.execute_reply": "2022-12-28T06:56:23.414012Z"
    },
    "papermill": {
     "duration": 0.02986,
     "end_time": "2022-12-28T06:56:23.417621",
     "exception": false,
     "start_time": "2022-12-28T06:56:23.387761",
     "status": "completed"
    },
    "tags": []
   },
   "outputs": [
    {
     "data": {
      "text/html": [
       "<div>\n",
       "<style scoped>\n",
       "    .dataframe tbody tr th:only-of-type {\n",
       "        vertical-align: middle;\n",
       "    }\n",
       "\n",
       "    .dataframe tbody tr th {\n",
       "        vertical-align: top;\n",
       "    }\n",
       "\n",
       "    .dataframe thead th {\n",
       "        text-align: right;\n",
       "    }\n",
       "</style>\n",
       "<table border=\"1\" class=\"dataframe\">\n",
       "  <thead>\n",
       "    <tr style=\"text-align: right;\">\n",
       "      <th></th>\n",
       "      <th>Loan_ID</th>\n",
       "      <th>Gender</th>\n",
       "      <th>Married</th>\n",
       "      <th>Dependents</th>\n",
       "      <th>Education</th>\n",
       "      <th>Self_Employed</th>\n",
       "      <th>Property_Area</th>\n",
       "      <th>Loan_Status</th>\n",
       "    </tr>\n",
       "  </thead>\n",
       "  <tbody>\n",
       "    <tr>\n",
       "      <th>0</th>\n",
       "      <td>LP001002</td>\n",
       "      <td>Male</td>\n",
       "      <td>No</td>\n",
       "      <td>0</td>\n",
       "      <td>Graduate</td>\n",
       "      <td>No</td>\n",
       "      <td>Urban</td>\n",
       "      <td>Y</td>\n",
       "    </tr>\n",
       "    <tr>\n",
       "      <th>1</th>\n",
       "      <td>LP001003</td>\n",
       "      <td>Male</td>\n",
       "      <td>Yes</td>\n",
       "      <td>1</td>\n",
       "      <td>Graduate</td>\n",
       "      <td>No</td>\n",
       "      <td>Rural</td>\n",
       "      <td>N</td>\n",
       "    </tr>\n",
       "    <tr>\n",
       "      <th>2</th>\n",
       "      <td>LP001005</td>\n",
       "      <td>Male</td>\n",
       "      <td>Yes</td>\n",
       "      <td>0</td>\n",
       "      <td>Graduate</td>\n",
       "      <td>Yes</td>\n",
       "      <td>Urban</td>\n",
       "      <td>Y</td>\n",
       "    </tr>\n",
       "    <tr>\n",
       "      <th>3</th>\n",
       "      <td>LP001006</td>\n",
       "      <td>Male</td>\n",
       "      <td>Yes</td>\n",
       "      <td>0</td>\n",
       "      <td>Not Graduate</td>\n",
       "      <td>No</td>\n",
       "      <td>Urban</td>\n",
       "      <td>Y</td>\n",
       "    </tr>\n",
       "    <tr>\n",
       "      <th>4</th>\n",
       "      <td>LP001008</td>\n",
       "      <td>Male</td>\n",
       "      <td>No</td>\n",
       "      <td>0</td>\n",
       "      <td>Graduate</td>\n",
       "      <td>No</td>\n",
       "      <td>Urban</td>\n",
       "      <td>Y</td>\n",
       "    </tr>\n",
       "  </tbody>\n",
       "</table>\n",
       "</div>"
      ],
      "text/plain": [
       "    Loan_ID Gender Married Dependents     Education Self_Employed  \\\n",
       "0  LP001002   Male      No          0      Graduate            No   \n",
       "1  LP001003   Male     Yes          1      Graduate            No   \n",
       "2  LP001005   Male     Yes          0      Graduate           Yes   \n",
       "3  LP001006   Male     Yes          0  Not Graduate            No   \n",
       "4  LP001008   Male      No          0      Graduate            No   \n",
       "\n",
       "  Property_Area Loan_Status  \n",
       "0         Urban           Y  \n",
       "1         Rural           N  \n",
       "2         Urban           Y  \n",
       "3         Urban           Y  \n",
       "4         Urban           Y  "
      ]
     },
     "execution_count": 11,
     "metadata": {},
     "output_type": "execute_result"
    }
   ],
   "source": [
    "df_cat.head()"
   ]
  },
  {
   "cell_type": "code",
   "execution_count": 12,
   "id": "e299cdde",
   "metadata": {
    "execution": {
     "iopub.execute_input": "2022-12-28T06:56:23.442138Z",
     "iopub.status.busy": "2022-12-28T06:56:23.441205Z",
     "iopub.status.idle": "2022-12-28T06:56:23.458335Z",
     "shell.execute_reply": "2022-12-28T06:56:23.457036Z"
    },
    "papermill": {
     "duration": 0.031786,
     "end_time": "2022-12-28T06:56:23.460760",
     "exception": false,
     "start_time": "2022-12-28T06:56:23.428974",
     "status": "completed"
    },
    "tags": []
   },
   "outputs": [
    {
     "data": {
      "text/plain": [
       "False"
      ]
     },
     "execution_count": 12,
     "metadata": {},
     "output_type": "execute_result"
    }
   ],
   "source": [
    "# df_categorical\n",
    "# If you want to fill every column with its own most frequent value you can use\n",
    "\n",
    "df_cat = df_cat.apply(lambda x:x.fillna(x.value_counts().index[0]))\n",
    "df_cat.isnull().sum().any() # no more missing data "
   ]
  },
  {
   "cell_type": "code",
   "execution_count": 13,
   "id": "a251d530",
   "metadata": {
    "execution": {
     "iopub.execute_input": "2022-12-28T06:56:23.484251Z",
     "iopub.status.busy": "2022-12-28T06:56:23.483826Z",
     "iopub.status.idle": "2022-12-28T06:56:23.502796Z",
     "shell.execute_reply": "2022-12-28T06:56:23.501362Z"
    },
    "papermill": {
     "duration": 0.0337,
     "end_time": "2022-12-28T06:56:23.505597",
     "exception": false,
     "start_time": "2022-12-28T06:56:23.471897",
     "status": "completed"
    },
    "tags": []
   },
   "outputs": [
    {
     "name": "stderr",
     "output_type": "stream",
     "text": [
      "c:\\Users\\DELL\\AppData\\Local\\Programs\\Python\\Python310\\lib\\site-packages\\pandas\\core\\frame.py:5176: SettingWithCopyWarning: \n",
      "A value is trying to be set on a copy of a slice from a DataFrame\n",
      "\n",
      "See the caveats in the documentation: https://pandas.pydata.org/pandas-docs/stable/user_guide/indexing.html#returning-a-view-versus-a-copy\n",
      "  return super().fillna(\n"
     ]
    },
    {
     "data": {
      "text/plain": [
       "False"
      ]
     },
     "execution_count": 13,
     "metadata": {},
     "output_type": "execute_result"
    }
   ],
   "source": [
    "# df_num\n",
    "# fill every missing value with their previous value in the same column\n",
    "\n",
    "df_num.fillna(method='bfill', inplace=True)\n",
    "df_num.isnull().sum().any() # no more missing data "
   ]
  },
  {
   "cell_type": "code",
   "execution_count": 14,
   "id": "370ef179",
   "metadata": {
    "execution": {
     "iopub.execute_input": "2022-12-28T06:56:23.529558Z",
     "iopub.status.busy": "2022-12-28T06:56:23.529110Z",
     "iopub.status.idle": "2022-12-28T06:56:23.541855Z",
     "shell.execute_reply": "2022-12-28T06:56:23.540527Z"
    },
    "papermill": {
     "duration": 0.028008,
     "end_time": "2022-12-28T06:56:23.544338",
     "exception": false,
     "start_time": "2022-12-28T06:56:23.516330",
     "status": "completed"
    },
    "tags": []
   },
   "outputs": [
    {
     "data": {
      "text/plain": [
       "Loan_ID          614\n",
       "Gender             2\n",
       "Married            2\n",
       "Dependents         4\n",
       "Education          2\n",
       "Self_Employed      2\n",
       "Property_Area      3\n",
       "Loan_Status        2\n",
       "dtype: int64"
      ]
     },
     "execution_count": 14,
     "metadata": {},
     "output_type": "execute_result"
    }
   ],
   "source": [
    "df_cat[cat_cols].nunique()"
   ]
  },
  {
   "cell_type": "code",
   "execution_count": 15,
   "id": "37cdf322",
   "metadata": {
    "execution": {
     "iopub.execute_input": "2022-12-28T06:56:23.567502Z",
     "iopub.status.busy": "2022-12-28T06:56:23.567033Z",
     "iopub.status.idle": "2022-12-28T06:56:23.573285Z",
     "shell.execute_reply": "2022-12-28T06:56:23.572335Z"
    },
    "papermill": {
     "duration": 0.020327,
     "end_time": "2022-12-28T06:56:23.575457",
     "exception": false,
     "start_time": "2022-12-28T06:56:23.555130",
     "status": "completed"
    },
    "tags": []
   },
   "outputs": [],
   "source": [
    "# droping column Loan_ID because it is not important for our model\n",
    "df_cat.drop('Loan_ID', axis=1, inplace=True)\n",
    "\n",
    "cat_cols.remove('Loan_ID')"
   ]
  },
  {
   "cell_type": "markdown",
   "id": "0d521c64",
   "metadata": {
    "papermill": {
     "duration": 0.010488,
     "end_time": "2022-12-28T06:56:23.596799",
     "exception": false,
     "start_time": "2022-12-28T06:56:23.586311",
     "status": "completed"
    },
    "tags": []
   },
   "source": [
    "# Ordinal Encoding the Categorical columns"
   ]
  },
  {
   "cell_type": "code",
   "execution_count": 16,
   "id": "5e0c4f28",
   "metadata": {
    "execution": {
     "iopub.execute_input": "2022-12-28T06:56:23.620315Z",
     "iopub.status.busy": "2022-12-28T06:56:23.619871Z",
     "iopub.status.idle": "2022-12-28T06:56:23.632281Z",
     "shell.execute_reply": "2022-12-28T06:56:23.631106Z"
    },
    "papermill": {
     "duration": 0.027669,
     "end_time": "2022-12-28T06:56:23.635169",
     "exception": false,
     "start_time": "2022-12-28T06:56:23.607500",
     "status": "completed"
    },
    "tags": []
   },
   "outputs": [],
   "source": [
    "ordinal_encoder = OrdinalEncoder()\n",
    "\n",
    "df_cat[cat_cols] = ordinal_encoder.fit_transform(df_cat[cat_cols])"
   ]
  },
  {
   "cell_type": "code",
   "execution_count": 17,
   "id": "71f9a4c0",
   "metadata": {
    "execution": {
     "iopub.execute_input": "2022-12-28T06:56:23.658963Z",
     "iopub.status.busy": "2022-12-28T06:56:23.658479Z",
     "iopub.status.idle": "2022-12-28T06:56:23.677030Z",
     "shell.execute_reply": "2022-12-28T06:56:23.675698Z"
    },
    "papermill": {
     "duration": 0.03315,
     "end_time": "2022-12-28T06:56:23.679497",
     "exception": false,
     "start_time": "2022-12-28T06:56:23.646347",
     "status": "completed"
    },
    "tags": []
   },
   "outputs": [
    {
     "data": {
      "text/html": [
       "<div>\n",
       "<style scoped>\n",
       "    .dataframe tbody tr th:only-of-type {\n",
       "        vertical-align: middle;\n",
       "    }\n",
       "\n",
       "    .dataframe tbody tr th {\n",
       "        vertical-align: top;\n",
       "    }\n",
       "\n",
       "    .dataframe thead th {\n",
       "        text-align: right;\n",
       "    }\n",
       "</style>\n",
       "<table border=\"1\" class=\"dataframe\">\n",
       "  <thead>\n",
       "    <tr style=\"text-align: right;\">\n",
       "      <th></th>\n",
       "      <th>Gender</th>\n",
       "      <th>Married</th>\n",
       "      <th>Dependents</th>\n",
       "      <th>Education</th>\n",
       "      <th>Self_Employed</th>\n",
       "      <th>Property_Area</th>\n",
       "      <th>Loan_Status</th>\n",
       "    </tr>\n",
       "  </thead>\n",
       "  <tbody>\n",
       "    <tr>\n",
       "      <th>0</th>\n",
       "      <td>1.0</td>\n",
       "      <td>0.0</td>\n",
       "      <td>0.0</td>\n",
       "      <td>0.0</td>\n",
       "      <td>0.0</td>\n",
       "      <td>2.0</td>\n",
       "      <td>1.0</td>\n",
       "    </tr>\n",
       "    <tr>\n",
       "      <th>1</th>\n",
       "      <td>1.0</td>\n",
       "      <td>1.0</td>\n",
       "      <td>1.0</td>\n",
       "      <td>0.0</td>\n",
       "      <td>0.0</td>\n",
       "      <td>0.0</td>\n",
       "      <td>0.0</td>\n",
       "    </tr>\n",
       "    <tr>\n",
       "      <th>2</th>\n",
       "      <td>1.0</td>\n",
       "      <td>1.0</td>\n",
       "      <td>0.0</td>\n",
       "      <td>0.0</td>\n",
       "      <td>1.0</td>\n",
       "      <td>2.0</td>\n",
       "      <td>1.0</td>\n",
       "    </tr>\n",
       "    <tr>\n",
       "      <th>3</th>\n",
       "      <td>1.0</td>\n",
       "      <td>1.0</td>\n",
       "      <td>0.0</td>\n",
       "      <td>1.0</td>\n",
       "      <td>0.0</td>\n",
       "      <td>2.0</td>\n",
       "      <td>1.0</td>\n",
       "    </tr>\n",
       "    <tr>\n",
       "      <th>4</th>\n",
       "      <td>1.0</td>\n",
       "      <td>0.0</td>\n",
       "      <td>0.0</td>\n",
       "      <td>0.0</td>\n",
       "      <td>0.0</td>\n",
       "      <td>2.0</td>\n",
       "      <td>1.0</td>\n",
       "    </tr>\n",
       "  </tbody>\n",
       "</table>\n",
       "</div>"
      ],
      "text/plain": [
       "   Gender  Married  Dependents  Education  Self_Employed  Property_Area  \\\n",
       "0     1.0      0.0         0.0        0.0            0.0            2.0   \n",
       "1     1.0      1.0         1.0        0.0            0.0            0.0   \n",
       "2     1.0      1.0         0.0        0.0            1.0            2.0   \n",
       "3     1.0      1.0         0.0        1.0            0.0            2.0   \n",
       "4     1.0      0.0         0.0        0.0            0.0            2.0   \n",
       "\n",
       "   Loan_Status  \n",
       "0          1.0  \n",
       "1          0.0  \n",
       "2          1.0  \n",
       "3          1.0  \n",
       "4          1.0  "
      ]
     },
     "execution_count": 17,
     "metadata": {},
     "output_type": "execute_result"
    }
   ],
   "source": [
    "df_cat.head()"
   ]
  },
  {
   "cell_type": "code",
   "execution_count": 18,
   "id": "d338b002",
   "metadata": {
    "execution": {
     "iopub.execute_input": "2022-12-28T06:56:23.703694Z",
     "iopub.status.busy": "2022-12-28T06:56:23.703280Z",
     "iopub.status.idle": "2022-12-28T06:56:23.709157Z",
     "shell.execute_reply": "2022-12-28T06:56:23.708236Z"
    },
    "papermill": {
     "duration": 0.020497,
     "end_time": "2022-12-28T06:56:23.711424",
     "exception": false,
     "start_time": "2022-12-28T06:56:23.690927",
     "status": "completed"
    },
    "tags": []
   },
   "outputs": [],
   "source": [
    "df = pd.concat([df_cat, df_num], axis=1)"
   ]
  },
  {
   "cell_type": "code",
   "execution_count": 19,
   "id": "e6fc13fe",
   "metadata": {
    "execution": {
     "iopub.execute_input": "2022-12-28T06:56:23.735241Z",
     "iopub.status.busy": "2022-12-28T06:56:23.734823Z",
     "iopub.status.idle": "2022-12-28T06:56:23.755421Z",
     "shell.execute_reply": "2022-12-28T06:56:23.754555Z"
    },
    "papermill": {
     "duration": 0.035044,
     "end_time": "2022-12-28T06:56:23.757465",
     "exception": false,
     "start_time": "2022-12-28T06:56:23.722421",
     "status": "completed"
    },
    "tags": []
   },
   "outputs": [
    {
     "data": {
      "text/html": [
       "<div>\n",
       "<style scoped>\n",
       "    .dataframe tbody tr th:only-of-type {\n",
       "        vertical-align: middle;\n",
       "    }\n",
       "\n",
       "    .dataframe tbody tr th {\n",
       "        vertical-align: top;\n",
       "    }\n",
       "\n",
       "    .dataframe thead th {\n",
       "        text-align: right;\n",
       "    }\n",
       "</style>\n",
       "<table border=\"1\" class=\"dataframe\">\n",
       "  <thead>\n",
       "    <tr style=\"text-align: right;\">\n",
       "      <th></th>\n",
       "      <th>Gender</th>\n",
       "      <th>Married</th>\n",
       "      <th>Dependents</th>\n",
       "      <th>Education</th>\n",
       "      <th>Self_Employed</th>\n",
       "      <th>Property_Area</th>\n",
       "      <th>Loan_Status</th>\n",
       "      <th>ApplicantIncome</th>\n",
       "      <th>CoapplicantIncome</th>\n",
       "      <th>LoanAmount</th>\n",
       "      <th>Loan_Amount_Term</th>\n",
       "      <th>Credit_History</th>\n",
       "    </tr>\n",
       "  </thead>\n",
       "  <tbody>\n",
       "    <tr>\n",
       "      <th>0</th>\n",
       "      <td>1.0</td>\n",
       "      <td>0.0</td>\n",
       "      <td>0.0</td>\n",
       "      <td>0.0</td>\n",
       "      <td>0.0</td>\n",
       "      <td>2.0</td>\n",
       "      <td>1.0</td>\n",
       "      <td>5849</td>\n",
       "      <td>0.0</td>\n",
       "      <td>128.0</td>\n",
       "      <td>360.0</td>\n",
       "      <td>1.0</td>\n",
       "    </tr>\n",
       "    <tr>\n",
       "      <th>1</th>\n",
       "      <td>1.0</td>\n",
       "      <td>1.0</td>\n",
       "      <td>1.0</td>\n",
       "      <td>0.0</td>\n",
       "      <td>0.0</td>\n",
       "      <td>0.0</td>\n",
       "      <td>0.0</td>\n",
       "      <td>4583</td>\n",
       "      <td>1508.0</td>\n",
       "      <td>128.0</td>\n",
       "      <td>360.0</td>\n",
       "      <td>1.0</td>\n",
       "    </tr>\n",
       "    <tr>\n",
       "      <th>2</th>\n",
       "      <td>1.0</td>\n",
       "      <td>1.0</td>\n",
       "      <td>0.0</td>\n",
       "      <td>0.0</td>\n",
       "      <td>1.0</td>\n",
       "      <td>2.0</td>\n",
       "      <td>1.0</td>\n",
       "      <td>3000</td>\n",
       "      <td>0.0</td>\n",
       "      <td>66.0</td>\n",
       "      <td>360.0</td>\n",
       "      <td>1.0</td>\n",
       "    </tr>\n",
       "    <tr>\n",
       "      <th>3</th>\n",
       "      <td>1.0</td>\n",
       "      <td>1.0</td>\n",
       "      <td>0.0</td>\n",
       "      <td>1.0</td>\n",
       "      <td>0.0</td>\n",
       "      <td>2.0</td>\n",
       "      <td>1.0</td>\n",
       "      <td>2583</td>\n",
       "      <td>2358.0</td>\n",
       "      <td>120.0</td>\n",
       "      <td>360.0</td>\n",
       "      <td>1.0</td>\n",
       "    </tr>\n",
       "    <tr>\n",
       "      <th>4</th>\n",
       "      <td>1.0</td>\n",
       "      <td>0.0</td>\n",
       "      <td>0.0</td>\n",
       "      <td>0.0</td>\n",
       "      <td>0.0</td>\n",
       "      <td>2.0</td>\n",
       "      <td>1.0</td>\n",
       "      <td>6000</td>\n",
       "      <td>0.0</td>\n",
       "      <td>141.0</td>\n",
       "      <td>360.0</td>\n",
       "      <td>1.0</td>\n",
       "    </tr>\n",
       "  </tbody>\n",
       "</table>\n",
       "</div>"
      ],
      "text/plain": [
       "   Gender  Married  Dependents  Education  Self_Employed  Property_Area  \\\n",
       "0     1.0      0.0         0.0        0.0            0.0            2.0   \n",
       "1     1.0      1.0         1.0        0.0            0.0            0.0   \n",
       "2     1.0      1.0         0.0        0.0            1.0            2.0   \n",
       "3     1.0      1.0         0.0        1.0            0.0            2.0   \n",
       "4     1.0      0.0         0.0        0.0            0.0            2.0   \n",
       "\n",
       "   Loan_Status  ApplicantIncome  CoapplicantIncome  LoanAmount  \\\n",
       "0          1.0             5849                0.0       128.0   \n",
       "1          0.0             4583             1508.0       128.0   \n",
       "2          1.0             3000                0.0        66.0   \n",
       "3          1.0             2583             2358.0       120.0   \n",
       "4          1.0             6000                0.0       141.0   \n",
       "\n",
       "   Loan_Amount_Term  Credit_History  \n",
       "0             360.0             1.0  \n",
       "1             360.0             1.0  \n",
       "2             360.0             1.0  \n",
       "3             360.0             1.0  \n",
       "4             360.0             1.0  "
      ]
     },
     "execution_count": 19,
     "metadata": {},
     "output_type": "execute_result"
    }
   ],
   "source": [
    "df.head()"
   ]
  },
  {
   "cell_type": "markdown",
   "id": "34bc802e",
   "metadata": {
    "papermill": {
     "duration": 0.01193,
     "end_time": "2022-12-28T06:56:23.780586",
     "exception": false,
     "start_time": "2022-12-28T06:56:23.768656",
     "status": "completed"
    },
    "tags": []
   },
   "source": [
    "# Tranning the Model"
   ]
  },
  {
   "cell_type": "code",
   "execution_count": 20,
   "id": "e96d92cc",
   "metadata": {
    "execution": {
     "iopub.execute_input": "2022-12-28T06:56:23.804943Z",
     "iopub.status.busy": "2022-12-28T06:56:23.804490Z",
     "iopub.status.idle": "2022-12-28T06:56:23.812098Z",
     "shell.execute_reply": "2022-12-28T06:56:23.810945Z"
    },
    "papermill": {
     "duration": 0.022649,
     "end_time": "2022-12-28T06:56:23.814408",
     "exception": false,
     "start_time": "2022-12-28T06:56:23.791759",
     "status": "completed"
    },
    "tags": []
   },
   "outputs": [],
   "source": [
    "selected_cols = ['ApplicantIncome', 'CoapplicantIncome', 'Credit_History', 'Property_Area', 'Married', 'Education', 'Dependents']\n",
    "\n",
    "X = df[selected_cols]\n",
    "y = df['Loan_Status']"
   ]
  },
  {
   "cell_type": "code",
   "execution_count": 21,
   "id": "b6056d56",
   "metadata": {
    "execution": {
     "iopub.execute_input": "2022-12-28T06:56:23.838462Z",
     "iopub.status.busy": "2022-12-28T06:56:23.838037Z",
     "iopub.status.idle": "2022-12-28T06:56:23.845374Z",
     "shell.execute_reply": "2022-12-28T06:56:23.844357Z"
    },
    "papermill": {
     "duration": 0.022193,
     "end_time": "2022-12-28T06:56:23.847752",
     "exception": false,
     "start_time": "2022-12-28T06:56:23.825559",
     "status": "completed"
    },
    "tags": []
   },
   "outputs": [],
   "source": [
    "X_train, X_test, y_train, y_test = train_test_split(X, y, test_size=0.2, random_state=0)"
   ]
  },
  {
   "cell_type": "code",
   "execution_count": 22,
   "id": "fd604ed9",
   "metadata": {
    "execution": {
     "iopub.execute_input": "2022-12-28T06:56:23.872501Z",
     "iopub.status.busy": "2022-12-28T06:56:23.871581Z",
     "iopub.status.idle": "2022-12-28T06:56:23.882728Z",
     "shell.execute_reply": "2022-12-28T06:56:23.881486Z"
    },
    "papermill": {
     "duration": 0.027104,
     "end_time": "2022-12-28T06:56:23.886112",
     "exception": false,
     "start_time": "2022-12-28T06:56:23.859008",
     "status": "completed"
    },
    "tags": []
   },
   "outputs": [
    {
     "name": "stdout",
     "output_type": "stream",
     "text": [
      "\n",
      "ratio of target in y_train : [0.67617108 0.32382892]\n",
      "ratio of target in y_test : [0.73170732 0.26829268]\n",
      "ratio of target in original_data : [0.68729642 0.31270358]\n"
     ]
    }
   ],
   "source": [
    "print('\\nratio of target in y_train :',y_train.value_counts().values/ len(y_train))\n",
    "print('ratio of target in y_test :',y_test.value_counts().values/ len(y_test))\n",
    "print('ratio of target in original_data :',df['Loan_Status'].value_counts().values/ len(df))\n",
    "\n",
    "# almost same ratio"
   ]
  },
  {
   "cell_type": "code",
   "execution_count": 23,
   "id": "76fc0ccd",
   "metadata": {
    "execution": {
     "iopub.execute_input": "2022-12-28T06:56:23.912545Z",
     "iopub.status.busy": "2022-12-28T06:56:23.911715Z",
     "iopub.status.idle": "2022-12-28T06:56:24.248036Z",
     "shell.execute_reply": "2022-12-28T06:56:24.246663Z"
    },
    "papermill": {
     "duration": 0.351437,
     "end_time": "2022-12-28T06:56:24.250703",
     "exception": false,
     "start_time": "2022-12-28T06:56:23.899266",
     "status": "completed"
    },
    "tags": []
   },
   "outputs": [
    {
     "data": {
      "text/plain": [
       "DecisionTreeClassifier()"
      ]
     },
     "execution_count": 23,
     "metadata": {},
     "output_type": "execute_result"
    }
   ],
   "source": [
    "model1_xgb = XGBClassifier()\n",
    "model2_LReg = LogisticRegression()\n",
    "model3_DTree = DecisionTreeClassifier()\n",
    "\n",
    "model1_xgb.fit(X_train, y_train)\n",
    "model2_LReg.fit(X_train, y_train)\n",
    "model3_DTree.fit(X_train, y_train)\n"
   ]
  },
  {
   "cell_type": "markdown",
   "id": "ba99adb2",
   "metadata": {
    "papermill": {
     "duration": 0.01085,
     "end_time": "2022-12-28T06:56:24.273164",
     "exception": false,
     "start_time": "2022-12-28T06:56:24.262314",
     "status": "completed"
    },
    "tags": []
   },
   "source": [
    "First predicting the models with the **trained data**"
   ]
  },
  {
   "cell_type": "code",
   "execution_count": 24,
   "id": "93f8db21",
   "metadata": {
    "execution": {
     "iopub.execute_input": "2022-12-28T06:56:24.297764Z",
     "iopub.status.busy": "2022-12-28T06:56:24.296874Z",
     "iopub.status.idle": "2022-12-28T06:56:24.319097Z",
     "shell.execute_reply": "2022-12-28T06:56:24.317603Z"
    },
    "papermill": {
     "duration": 0.03852,
     "end_time": "2022-12-28T06:56:24.322903",
     "exception": false,
     "start_time": "2022-12-28T06:56:24.284383",
     "status": "completed"
    },
    "tags": []
   },
   "outputs": [
    {
     "name": "stdout",
     "output_type": "stream",
     "text": [
      "Prediction of Training data\n",
      "\n",
      "XGBClassifier            - Accuracy is  0.9938900203665988\n",
      "Logistic Regression      - Accuracy is  0.7942973523421588\n",
      "Decision Tree Classifier - Accuracy is  0.9979633401221996\n"
     ]
    }
   ],
   "source": [
    "prediction1 = model1_xgb.predict(X_train)\n",
    "yp2 = model2_LReg.predict(X_train)\n",
    "yp3 = model3_DTree.predict(X_train)\n",
    "\n",
    "\n",
    "print(\"Prediction of Training data\\n\")\n",
    "print(\"XGBClassifier            - Accuracy is \",accuracy_score(y_train, prediction1))\n",
    "print(\"Logistic Regression      - Accuracy is \",accuracy_score(y_train, yp2))\n",
    "print(\"Decision Tree Classifier - Accuracy is \",accuracy_score(y_train, yp3))"
   ]
  },
  {
   "cell_type": "markdown",
   "id": "0da1a60d",
   "metadata": {
    "papermill": {
     "duration": 0.011057,
     "end_time": "2022-12-28T06:56:24.346338",
     "exception": false,
     "start_time": "2022-12-28T06:56:24.335281",
     "status": "completed"
    },
    "tags": []
   },
   "source": [
    "Well above we have **predicted** the models **on training data**, so it might be reason<br> for predicting very much high accuracy because of overfitting"
   ]
  },
  {
   "cell_type": "markdown",
   "id": "8449e618",
   "metadata": {
    "papermill": {
     "duration": 0.010903,
     "end_time": "2022-12-28T06:56:24.368663",
     "exception": false,
     "start_time": "2022-12-28T06:56:24.357760",
     "status": "completed"
    },
    "tags": []
   },
   "source": [
    "### Prediction on Testing data"
   ]
  },
  {
   "cell_type": "code",
   "execution_count": 25,
   "id": "987ac827",
   "metadata": {
    "execution": {
     "iopub.execute_input": "2022-12-28T06:56:24.393450Z",
     "iopub.status.busy": "2022-12-28T06:56:24.392673Z",
     "iopub.status.idle": "2022-12-28T06:56:24.411627Z",
     "shell.execute_reply": "2022-12-28T06:56:24.410386Z"
    },
    "papermill": {
     "duration": 0.034337,
     "end_time": "2022-12-28T06:56:24.414361",
     "exception": false,
     "start_time": "2022-12-28T06:56:24.380024",
     "status": "completed"
    },
    "tags": []
   },
   "outputs": [
    {
     "name": "stdout",
     "output_type": "stream",
     "text": [
      "Prediction on Testing data\n",
      "\n",
      "XGBClassifier            - Accuracy is  0.7804878048780488\n",
      "Logistic Regression      - Accuracy is  0.8455284552845529\n",
      "Decision Tree Classifier - Accuracy is  0.7235772357723578\n"
     ]
    }
   ],
   "source": [
    "yp4 = model1_xgb.predict(X_test)\n",
    "yp5 = model2_LReg.predict(X_test)\n",
    "yp6 = model3_DTree.predict(X_test)\n",
    "\n",
    "\n",
    "print(\"Prediction on Testing data\\n\")\n",
    "print(\"XGBClassifier            - Accuracy is \",accuracy_score(y_test, yp4))\n",
    "print(\"Logistic Regression      - Accuracy is \",accuracy_score(y_test, yp5))\n",
    "print(\"Decision Tree Classifier - Accuracy is \",accuracy_score(y_test, yp6))"
   ]
  },
  {
   "cell_type": "markdown",
   "id": "e415ab86",
   "metadata": {
    "papermill": {
     "duration": 0.011781,
     "end_time": "2022-12-28T06:56:24.438441",
     "exception": false,
     "start_time": "2022-12-28T06:56:24.426660",
     "status": "completed"
    },
    "tags": []
   },
   "source": [
    "# Conclusion\n",
    "Here *Logistic Regression* performed **very well** <br>\n",
    "while *XGBClassifier* performed **good** <br>\n",
    "and *Decision Tree Classifier* peformed the **worst**."
   ]
  },
  {
   "cell_type": "markdown",
   "id": "368a6396",
   "metadata": {
    "papermill": {
     "duration": 0.010914,
     "end_time": "2022-12-28T06:56:24.460671",
     "exception": false,
     "start_time": "2022-12-28T06:56:24.449757",
     "status": "completed"
    },
    "tags": []
   },
   "source": [
    "**Hey**, do *upvote* the Notebook, it will keep me motivated.\n",
    "\n",
    "Please *comment* your valuable suggestions."
   ]
  }
 ],
 "metadata": {
  "kernelspec": {
   "display_name": "Python 3",
   "language": "python",
   "name": "python3"
  },
  "language_info": {
   "codemirror_mode": {
    "name": "ipython",
    "version": 3
   },
   "file_extension": ".py",
   "mimetype": "text/x-python",
   "name": "python",
   "nbconvert_exporter": "python",
   "pygments_lexer": "ipython3",
   "version": "3.10.0"
  },
  "papermill": {
   "default_parameters": {},
   "duration": 14.056643,
   "end_time": "2022-12-28T06:56:25.295668",
   "environment_variables": {},
   "exception": null,
   "input_path": "__notebook__.ipynb",
   "output_path": "__notebook__.ipynb",
   "parameters": {},
   "start_time": "2022-12-28T06:56:11.239025",
   "version": "2.3.4"
  },
  "vscode": {
   "interpreter": {
    "hash": "fbc768028c3e6ead51d9a200ddcb2ec858ae62844dcd1994729a8279be9b48f2"
   }
  }
 },
 "nbformat": 4,
 "nbformat_minor": 5
}
