{
 "cells": [
  {
   "cell_type": "code",
   "execution_count": 2,
   "metadata": {},
   "outputs": [],
   "source": [
    "wkf = [\n",
    "    {\n",
    "        \"workflow_id\": \"5e6224be336cf20361b336c106d040d0\",\n",
    "        \"workflow_name\": \"wklt_POL_FileWatcher_TokensFile\",\n",
    "        \"is_worklet\": True,\n",
    "        \"project\": \"WBMI\",\n",
    "        \"folder\": \"PolicyDataServices\",\n",
    "        \"file_name\": \"wkf_POL_Tokenize_ExploreEARSDriverRecord.XML\",\n",
    "        \"workflow_description\": \"This Worklet checks for the response file from the TokenEx Service. If it doesn't get any file within the specified time in the timer task, then it get aborted which inturn makes the workflow also to get aborted. \",\n",
    "        \"complexity_score\": 2.9000000000000004,\n",
    "        \"total_cscore\": 6.9,\n",
    "        \"created_date\": \"2024-07-09 16:35:51.416205\"\n",
    "    },\n",
    "    {\n",
    "        \"workflow_id\": \"b6d33953b9ee571b7f5df3dde1b28ea2\",\n",
    "        \"workflow_name\": \"wkf_POL_Tokenize_ExploreEARSDriverRecord\",\n",
    "        \"project\": \"WBMI\",\n",
    "        \"folder\": \"PolicyDataServices\",\n",
    "        \"file_name\": \"wkf_POL_Tokenize_ExploreEARSDriverRecord.XML\",\n",
    "        \"workflow_description\": \"\",\n",
    "        \"complexity_score\": 7.6,\n",
    "        \"total_cscore\": 668.4000000000001,\n",
    "        \"created_date\": \"2024-07-09 16:35:51.416205\"\n",
    "    }\n",
    "]"
   ]
  },
  {
   "cell_type": "code",
   "execution_count": 5,
   "metadata": {},
   "outputs": [
    {
     "name": "stdout",
     "output_type": "stream",
     "text": [
      "Total_Country_Sales_USD desc, Category desc\n"
     ]
    }
   ],
   "source": [
    "sort_keys = [\n",
    "    {\n",
    "        \"key\": \"Total_Country_Sales_USD\",\n",
    "        \"order\": \"desc\"\n",
    "    },\n",
    "    {\n",
    "        \"key\": \"Category\",\n",
    "        \"order\": \"desc\"\n",
    "    }\n",
    "]\n",
    "\n",
    "order_by = [f\"{s['key']} {s['order']}\" for s in sort_keys]\n",
    "print(', '.join(order_by))\n",
    "\t\t\t"
   ]
  },
  {
   "cell_type": "code",
   "execution_count": 4,
   "metadata": {},
   "outputs": [],
   "source": [
    "import json"
   ]
  },
  {
   "cell_type": "code",
   "execution_count": 5,
   "metadata": {},
   "outputs": [
    {
     "name": "stdout",
     "output_type": "stream",
     "text": [
      "[\n",
      "    {\n",
      "        \"key\": \"edw_agency_pk_id\",\n",
      "        \"operator\": \"=\",\n",
      "        \"in_pos\": 0\n",
      "    },\n",
      "    {\n",
      "        \"key\": \"edw_agency_uw_pk_id\",\n",
      "        \"operator\": \"=\",\n",
      "        \"in_pos\": 1\n",
      "    },\n",
      "    {\n",
      "        \"key\": \"edw_prdcr_code_pk_id\",\n",
      "        \"operator\": \"=\",\n",
      "        \"in_pos\": 2\n",
      "    },\n",
      "    {\n",
      "        \"key\": \"edw_uw_pk_id\",\n",
      "        \"operator\": \"=\",\n",
      "        \"in_pos\": 3\n",
      "    },\n",
      "    {\n",
      "        \"key\": \"edw_uw_mgr_pk_id\",\n",
      "        \"operator\": \"=\",\n",
      "        \"in_pos\": 4\n",
      "    },\n",
      "    {\n",
      "        \"key\": \"edw_agency_addr_pk_id\",\n",
      "        \"operator\": \"=\",\n",
      "        \"in_pos\": 5\n",
      "    },\n",
      "    {\n",
      "        \"key\": \"terr_code\",\n",
      "        \"operator\": \"=\",\n",
      "        \"in_pos\": 6\n",
      "    }\n",
      "]\n"
     ]
    }
   ],
   "source": [
    "def get_lookup_keys(lkp_condition):\n",
    "    input_pos = {}\n",
    "    lookup_condition = lkp_condition.split(' ')\n",
    "    lookup_keys = []\n",
    "    in_pos = 0\n",
    "    for key, operator, inp in zip(lookup_condition[::4], lookup_condition[1::4], lookup_condition[2::4]):\n",
    "        curr_in_pos = input_pos.get(inp, None)\n",
    "        if not curr_in_pos:\n",
    "            curr_in_pos = in_pos\n",
    "            in_pos += 1\n",
    "        lookup_keys.append({\n",
    "            'key': key,\n",
    "            'operator': operator,\n",
    "            'in_pos': curr_in_pos\n",
    "        })\n",
    "    print(json.dumps(lookup_keys, indent=4))\n",
    "\n",
    "get_lookup_keys(\"edw_agency_pk_id = in_agency_id AND edw_agency_uw_pk_id = in_agency_uw_id AND edw_prdcr_code_pk_id = in_producer_code_id AND edw_uw_pk_id = in_uw_id1 AND edw_uw_mgr_pk_id = in_uw_mgr_id1 AND edw_agency_addr_pk_id = in_agency_address_id AND terr_code = in_terr_code1\")"
   ]
  },
  {
   "cell_type": "code",
   "execution_count": null,
   "metadata": {},
   "outputs": [],
   "source": []
  }
 ],
 "metadata": {
  "kernelspec": {
   "display_name": "Python 3",
   "language": "python",
   "name": "python3"
  },
  "language_info": {
   "codemirror_mode": {
    "name": "ipython",
    "version": 3
   },
   "file_extension": ".py",
   "mimetype": "text/x-python",
   "name": "python",
   "nbconvert_exporter": "python",
   "pygments_lexer": "ipython3",
   "version": "3.12.2"
  }
 },
 "nbformat": 4,
 "nbformat_minor": 2
}
