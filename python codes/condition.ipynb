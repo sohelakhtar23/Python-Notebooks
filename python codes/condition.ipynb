{
 "cells": [
  {
   "cell_type": "code",
   "execution_count": 1,
   "metadata": {},
   "outputs": [],
   "source": [
    "PORTTYPE=\"LOOKUP/OUTPUT\"\n",
    "PORTTYPE =\"INPUT\"\n",
    "PORTTYPE =\"LOOKUP\"\n",
    "PORTTYPE =\"INPUT/OUTPUT\"\n",
    "PORTTYPE =\"OUTPUT\"\n",
    "\n",
    "PORTTYPE =\"LOOKUP/RETURN/OUTPUT\"\n",
    "PORTTYPE =\"LOCAL VARIABLE\""
   ]
  },
  {
   "cell_type": "code",
   "execution_count": 2,
   "metadata": {},
   "outputs": [
    {
     "name": "stdout",
     "output_type": "stream",
     "text": [
      "{'is_input': 1, 'is_output': 0, 'is_lookup': 0}\n"
     ]
    }
   ],
   "source": [
    "input_str = input(\"Enter a PORTTYPE : \")\n",
    "\n",
    "if input_str == \"INPUT\":\n",
    "    fields = {\"is_input\": 1, \"is_output\": 0, \"is_lookup\": 0}\n",
    "elif input_str == \"LOOKUP\":\n",
    "    fields = {\"is_input\": 0, \"is_output\": 0, \"is_lookup\": 1}\n",
    "elif input_str == \"OUTPUT\":\n",
    "    fields = {\"is_input\": 0, \"is_output\": 1, \"is_lookup\": 0}\n",
    "elif input_str == \"INPUT/OUTPUT\":\n",
    "    fields = {\"is_input\": 1, \"is_output\": 1, \"is_lookup\": 0}\n",
    "elif input_str == \"LOOKUP/OUTPUT\":\n",
    "    fields = {\"is_input\": 0, \"is_output\": 1, \"is_lookup\": 1}\n",
    "else:\n",
    "    fields = {\"is_input\": 0, \"is_output\": 0, \"is_lookup\": 0}\n",
    "\n",
    "print(fields)"
   ]
  },
  {
   "cell_type": "code",
   "execution_count": 4,
   "metadata": {},
   "outputs": [],
   "source": [
    "dict = {\n",
    "    \"field_name\": \"AgencyAKID\",\n",
    "    \"field_type\": \"integer\",\n",
    "    \"port_values\": {\n",
    "        \"is_input\": 0,\n",
    "        \"is_output\": 0,\n",
    "        \"is_lookup\": 1\n",
    "    }\n",
    "}"
   ]
  },
  {
   "cell_type": "code",
   "execution_count": 6,
   "metadata": {},
   "outputs": [
    {
     "name": "stdout",
     "output_type": "stream",
     "text": [
      "0\n",
      "<class 'dict'>\n",
      "AgencyAKID\n"
     ]
    }
   ],
   "source": [
    "print(dict['port_values']['is_input'])\n",
    "print(type(dict))\n",
    "print(dict['field_name'])\n",
    "\n"
   ]
  },
  {
   "cell_type": "code",
   "execution_count": 7,
   "metadata": {},
   "outputs": [
    {
     "ename": "KeyError",
     "evalue": "0",
     "output_type": "error",
     "traceback": [
      "\u001b[1;31m---------------------------------------------------------------------------\u001b[0m",
      "\u001b[1;31mKeyError\u001b[0m                                  Traceback (most recent call last)",
      "Cell \u001b[1;32mIn[7], line 1\u001b[0m\n\u001b[1;32m----> 1\u001b[0m \u001b[38;5;28mprint\u001b[39m(\u001b[38;5;28;43mdict\u001b[39;49m\u001b[43m[\u001b[49m\u001b[38;5;124;43m'\u001b[39;49m\u001b[38;5;124;43mport_values\u001b[39;49m\u001b[38;5;124;43m'\u001b[39;49m\u001b[43m]\u001b[49m\u001b[43m[\u001b[49m\u001b[38;5;241;43m0\u001b[39;49m\u001b[43m]\u001b[49m)\n",
      "\u001b[1;31mKeyError\u001b[0m: 0"
     ]
    }
   ],
   "source": [
    "print(dict['port_values'][0])"
   ]
  }
 ],
 "metadata": {
  "kernelspec": {
   "display_name": "Python 3",
   "language": "python",
   "name": "python3"
  },
  "language_info": {
   "codemirror_mode": {
    "name": "ipython",
    "version": 3
   },
   "file_extension": ".py",
   "mimetype": "text/x-python",
   "name": "python",
   "nbconvert_exporter": "python",
   "pygments_lexer": "ipython3",
   "version": "3.12.2"
  }
 },
 "nbformat": 4,
 "nbformat_minor": 2
}
