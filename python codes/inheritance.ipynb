{
 "cells": [
  {
   "cell_type": "code",
   "execution_count": 1,
   "metadata": {},
   "outputs": [],
   "source": [
    "class Employee:\n",
    "    def __init__(self, name, age, salary):\n",
    "        self.name = name\n",
    "        self.age = age\n",
    "        self.salary = salary\n",
    "        \n",
    "    def get_details(self):\n",
    "        print(f\"{self.name} earns {self.salary}\")\n",
    "    \n",
    "    "
   ]
  },
  {
   "cell_type": "code",
   "execution_count": 2,
   "metadata": {},
   "outputs": [
    {
     "name": "stdout",
     "output_type": "stream",
     "text": [
      "E1 earns 25000\n"
     ]
    }
   ],
   "source": [
    "emp1 = Employee(\"E1\", 22, 25000)\n",
    "emp1.get_details()"
   ]
  },
  {
   "cell_type": "code",
   "execution_count": 5,
   "metadata": {},
   "outputs": [
    {
     "name": "stdout",
     "output_type": "stream",
     "text": [
      "d1 earns 25000\n",
      "Help on Developer in module __main__ object:\n",
      "\n",
      "class Developer(Employee)\n",
      " |  Developer(name, age, salary)\n",
      " |\n",
      " |  Method resolution order:\n",
      " |      Developer\n",
      " |      Employee\n",
      " |      builtins.object\n",
      " |\n",
      " |  Methods inherited from Employee:\n",
      " |\n",
      " |  __init__(self, name, age, salary)\n",
      " |      Initialize self.  See help(type(self)) for accurate signature.\n",
      " |\n",
      " |  get_details(self)\n",
      " |\n",
      " |  ----------------------------------------------------------------------\n",
      " |  Data descriptors inherited from Employee:\n",
      " |\n",
      " |  __dict__\n",
      " |      dictionary for instance variables\n",
      " |\n",
      " |  __weakref__\n",
      " |      list of weak references to the object\n",
      "\n",
      "None\n"
     ]
    }
   ],
   "source": [
    "class Developer(Employee):\n",
    "    None\n",
    "    \n",
    "d1 = Developer(\"d1\", 25, 25000)\n",
    "d1.get_details()\n",
    "\n",
    "# we can see the hierarchy and other details of class by help()\n",
    "print(help(d1))"
   ]
  },
  {
   "cell_type": "code",
   "execution_count": 7,
   "metadata": {},
   "outputs": [
    {
     "name": "stdout",
     "output_type": "stream",
     "text": [
      "d2 earns 25000\n",
      "d2 knows Python\n"
     ]
    }
   ],
   "source": [
    "class Developer(Employee):\n",
    "    def __init__(self, name, age, salary, prog_lang):\n",
    "        super().__init__(name, age, salary)\n",
    "        self.prog_lang = prog_lang\n",
    "        \n",
    "    def get_details(self):\n",
    "        super().get_details()\n",
    "        print(f\"{self.name} knows {self.prog_lang}\")\n",
    "    \n",
    "d2 = Developer(\"d2\", 25, 25000, 'Python')\n",
    "d2.get_details()"
   ]
  },
  {
   "cell_type": "code",
   "execution_count": 14,
   "metadata": {},
   "outputs": [],
   "source": [
    "class Manager(Employee):\n",
    "    def __init__(self, name, age, salary, emps=None):\n",
    "        super().__init__(name, age, salary)\n",
    "        if emps is None:\n",
    "            self.emps = []\n",
    "        else:\n",
    "            self.emps = emps\n",
    "        # self.emps = emps if emps is not None else []\n",
    "    \n",
    "    def add_emp(self, emp):\n",
    "        if emp not in self.emps:\n",
    "            self.emps.append(emp)\n",
    "            \n",
    "    def remove_emp(self, emp):\n",
    "        if emp in self.emps:\n",
    "            self.emps.remove(emp)\n",
    "            \n",
    "    def get_details(self):\n",
    "        super().get_details()\n",
    "        print(f\"{self.name} is manager of \")\n",
    "        for emp in self.emps:\n",
    "            print(f\"--> {emp.name}\")"
   ]
  },
  {
   "cell_type": "code",
   "execution_count": 15,
   "metadata": {},
   "outputs": [
    {
     "name": "stdout",
     "output_type": "stream",
     "text": [
      "m1 earns 50000\n",
      "m1 is manager of \n",
      "--> d2\n",
      "m1 earns 50000\n",
      "m1 is manager of \n",
      "--> d2\n",
      "--> d3\n"
     ]
    }
   ],
   "source": [
    "mgr_1 = Manager('m1', 35, 50000, [d2])\n",
    "mgr_1.get_details()\n",
    "\n",
    "d3 = Developer('d3', 28, 28000, 'JAVA')\n",
    "mgr_1.add_emp(d3)\n",
    "mgr_1.get_details()"
   ]
  },
  {
   "cell_type": "code",
   "execution_count": 17,
   "metadata": {},
   "outputs": [
    {
     "name": "stdout",
     "output_type": "stream",
     "text": [
      "True\n",
      "True\n",
      "False\n"
     ]
    }
   ],
   "source": [
    "print(isinstance(mgr_1, Manager))\n",
    "print(isinstance(mgr_1, Employee))\n",
    "print(isinstance(mgr_1, Developer))"
   ]
  },
  {
   "cell_type": "code",
   "execution_count": 21,
   "metadata": {},
   "outputs": [
    {
     "ename": "TypeError",
     "evalue": "issubclass() arg 1 must be a class",
     "output_type": "error",
     "traceback": [
      "\u001b[1;31m---------------------------------------------------------------------------\u001b[0m",
      "\u001b[1;31mTypeError\u001b[0m                                 Traceback (most recent call last)",
      "Cell \u001b[1;32mIn[21], line 1\u001b[0m\n\u001b[1;32m----> 1\u001b[0m \u001b[38;5;28mprint\u001b[39m(\u001b[38;5;28;43missubclass\u001b[39;49m\u001b[43m(\u001b[49m\u001b[43mmgr_1\u001b[49m\u001b[43m,\u001b[49m\u001b[43m \u001b[49m\u001b[43mManager\u001b[49m\u001b[43m)\u001b[49m)\n",
      "\u001b[1;31mTypeError\u001b[0m: issubclass() arg 1 must be a class"
     ]
    }
   ],
   "source": [
    "print(issubclass(mgr_1, Manager))"
   ]
  },
  {
   "cell_type": "code",
   "execution_count": 20,
   "metadata": {},
   "outputs": [
    {
     "name": "stdout",
     "output_type": "stream",
     "text": [
      "False\n",
      "True\n"
     ]
    }
   ],
   "source": [
    "print(issubclass(Employee, Manager))\n",
    "print(issubclass(Manager, Employee))"
   ]
  },
  {
   "cell_type": "code",
   "execution_count": null,
   "metadata": {},
   "outputs": [],
   "source": []
  },
  {
   "cell_type": "code",
   "execution_count": null,
   "metadata": {},
   "outputs": [],
   "source": []
  }
 ],
 "metadata": {
  "kernelspec": {
   "display_name": "Python 3",
   "language": "python",
   "name": "python3"
  },
  "language_info": {
   "codemirror_mode": {
    "name": "ipython",
    "version": 3
   },
   "file_extension": ".py",
   "mimetype": "text/x-python",
   "name": "python",
   "nbconvert_exporter": "python",
   "pygments_lexer": "ipython3",
   "version": "3.12.2"
  }
 },
 "nbformat": 4,
 "nbformat_minor": 2
}
