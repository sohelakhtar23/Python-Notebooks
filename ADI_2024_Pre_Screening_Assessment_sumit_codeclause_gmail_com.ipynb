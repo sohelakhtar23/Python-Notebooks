{
  "nbformat": 4,
  "nbformat_minor": 0,
  "metadata": {
    "colab": {
      "provenance": []
    },
    "kernelspec": {
      "name": "python3",
      "display_name": "Python 3"
    },
    "language_info": {
      "name": "python"
    }
  },
  "cells": [
    {
      "cell_type": "markdown",
      "source": [
        "## Instructions\n",
        "\n",
        "\n",
        "Hello, and thank you for your interest in this year's Applied Data Institute.\n",
        "\n",
        "The goal of this notebook is to get a sense for\n",
        "\n",
        "*   your fluency programming in Python\n",
        "*   how you bring a computational lens to novel technical problems.\n",
        "\n",
        "\n",
        "There are two sets of tasks in the notebook. The first are \"core\" tasks that test programming ability and computational thinking. The second are \"data\" tasks, that as the name suggests, involve working with some form of data. **We ask that you attempt at least**\n",
        "\n",
        "*   **2 out of the 3 \"core\" tasks, and**\n",
        "*   **1 out of the 3 \"data\" tasks.**\n",
        "\n",
        "Complete as much of the notebook as you can in the alotted 24 hour timeframe.\n",
        "The tasks are purposefully designed to be challenging, so it is perfectly reasonable to leave some blank or partially complete. If there are some tasks that you have no idea how to tackle, fear not, and just skip them. But the more you tackle, the more it gives us a chance to see your technical critical thinking and computational creativity.\n",
        "\n",
        "Please comment your code as thoroughly as possble, and use the full functionality of python notebooks to explain your thought process in as much detail as possible. We are even more interested in the rationale behind your code than the code itself.\n",
        "\n",
        "At the end of the 24-hour mark, this notebook will automatically  submit itself, and you will lose edit access to this file. If you've been working on your answers elsewhere, please ensure that you have added them to **this notebook** before the end of the 24 hour period.\n",
        "\n",
        "**Make sure your notebook runs independently of any files on your local system. It should run without error when we run it on our side. If your answers involve reading in datasets, read in the dataset from a URL: you can either find a Kaggle link to the relevant dataset or upload the dataset to Github and generate a URL as needed.**\n",
        "\n",
        "**A note on cheating/plagiarism:**\n",
        "\n",
        "The assessment is **open-book**: doing research and digesting relevant knowledge online while completing this assessment is encouraged -- rarely do real world tasks involve being shut out from outside help. However, we insist that the final notebook you submit be the result of your own efforts, i.e. that you have not collaborated on it with anyone else. With regards to Large Language Models like ChatGPT, we ask that you do not use them to generate code or explanations of your code. This is for both your and our benefit:\n",
        "\n",
        "\n",
        "*   The problems are sufficiently involved that the LLM will likely lead you astray\n",
        "*   We wish to assess your programming capabilities, not that of the LLM.\n",
        "*   Do not rob yourself of a chance to learn and be stretched mentally. Above all, if you engaged with this assessment with the right attitude, it should be a fun learning experience.\n",
        "\n",
        "\n",
        "Nonetheless, LLMs could be a useful guide in scaffolding your research process as you familiarize yourself with any of the problems in this notebook. Using them in the manner one would use Wikipedia is permissible."
      ],
      "metadata": {
        "id": "DHuEtIdOfdHC"
      }
    },
    {
      "cell_type": "markdown",
      "source": [
        "# Core Tasks"
      ],
      "metadata": {
        "id": "QJW_95YNxT8T"
      }
    },
    {
      "cell_type": "markdown",
      "source": [
        "## Task 1.\n"
      ],
      "metadata": {
        "id": "LV8GQxc4ylip"
      }
    },
    {
      "cell_type": "markdown",
      "source": [
        "\n",
        "**A)** One of the simplest ways you can encrypt a message is by rearranging the letters. For instance, one can imagine taking a string and rearranging it so that the letters at even indexes appear first, followed by the ones at odd indexes. So, for example, `'message'` will become `'msaeesg'` (remember Python counts from zero!).\n",
        "\n",
        "Let's consider more complicated versions of this. Suppose we have the string `'I_love_to_program!'`. Instead of even and odd, we could group the characters into 3:\n",
        "\n",
        "* The first group with indexes 0,3,6,9, ...\n",
        "* The next group with indexes 1,4,7,10,...\n",
        "* And the final group with indexes 2,5,8,11,...\n",
        "\n",
        "So for `'I_love_to_program!'` the groups would be `'Io__oa'` , `'_vtpgm'` , `'leorr!'`, yielding the encrypted message `'Io__oa_vtpgmleorr!'`.\n",
        "\n",
        "And we're not limited to steps of 2 in the case of even/odd, or steps of 3 like in the example above. We can have any step size $n \\geq 2$ to define our groups of indices.\n",
        "\n",
        "Implement the function `n_step_encrypt(phrase, n)` below that does this type of encryption for any arbitrary step-size $n \\geq 2$:"
      ],
      "metadata": {
        "id": "no_C2BM70c5C"
      }
    },
    {
      "cell_type": "code",
      "source": [
        "# make sure to add lots of comments explaining your code!\n",
        "\n",
        "def n_step_encrypt(phrase: str, n: int):\n",
        "    # write your code here\n",
        "    return \"\"\n",
        "\n",
        "n_step_encrypt('I_love_to_program!', 3)"
      ],
      "metadata": {
        "id": "5SkPoDuZylOY"
      },
      "execution_count": null,
      "outputs": []
    },
    {
      "cell_type": "markdown",
      "source": [
        "**B)** Now implement the `n_step_decrypt` function that does the corresponding decryption for any arbitrary step-size $n \\geq 2$. For example, for $n = 3$, the function should take `'Io__oa_vtpgmleorr!'` and return `'I_love_to_program!'`:"
      ],
      "metadata": {
        "id": "W91R_dhvzdUE"
      }
    },
    {
      "cell_type": "code",
      "source": [
        "# make sure to add lots of comments explaining your code!\n",
        "\n",
        "def n_step_decrypt(phrase: str, n: int):\n",
        "    # write your code here\n",
        "    return \"\"\n",
        "\n",
        "n_step_decrypt('Io__oa_vtpgmleorr!', 3)"
      ],
      "metadata": {
        "id": "dZfeVvTA0LwB"
      },
      "execution_count": null,
      "outputs": []
    },
    {
      "cell_type": "markdown",
      "source": [
        "## Task 2."
      ],
      "metadata": {
        "id": "XSkHyCNMurct"
      }
    },
    {
      "cell_type": "markdown",
      "source": [
        "\n",
        "\n",
        "**A)** Write a program that proves the following:\n",
        "\n",
        "In any arbitrary gathering of 6 people, one of the following has to be true:\n",
        "\n",
        "*   There will be a group of at least 3 people who all know each other.\n",
        "*   There will be a group of at least 3 people who have never met each other before."
      ],
      "metadata": {
        "id": "NNKAVyYnsz4O"
      }
    },
    {
      "cell_type": "code",
      "execution_count": null,
      "metadata": {
        "id": "oWManXZ3fV0E"
      },
      "outputs": [],
      "source": [
        "# write your code here; make sure to add lots of comments explaining your code\n",
        "\n",
        "\n"
      ]
    },
    {
      "cell_type": "markdown",
      "source": [
        "**B)** Provide an argument that this would also have to be true for gatherings bigger than 6 people. You can use words, or code, or both to do this."
      ],
      "metadata": {
        "id": "Tud_S4XjuKzy"
      }
    },
    {
      "cell_type": "code",
      "source": [
        "# write your code here; make sure to add lots of comments explaining your code\n",
        "\n"
      ],
      "metadata": {
        "id": "iRgEtL-UubrK"
      },
      "execution_count": null,
      "outputs": []
    },
    {
      "cell_type": "markdown",
      "source": [
        "(Write your argument here)"
      ],
      "metadata": {
        "id": "hC7dXcAUuexr"
      }
    },
    {
      "cell_type": "markdown",
      "source": [
        "**C)** It turns out if you wanted to ensure that in your gathering there will be a group of at least *4* people who either all know each other, or have all never met each other before, then we would need a much bigger gathering. In fact, you would need 18 people to ensure this is the case. Would repurposing the code you wrote in Part **A** work for proving this fact? If so, how? If not, what might be the practical challenges associated with this?\n"
      ],
      "metadata": {
        "id": "StZI8dVeuoIK"
      }
    },
    {
      "cell_type": "markdown",
      "source": [
        "(Explain your reasoning here)"
      ],
      "metadata": {
        "id": "5yc9DO0RwEmK"
      }
    },
    {
      "cell_type": "markdown",
      "source": [
        "## Task 3."
      ],
      "metadata": {
        "id": "qN-IBp-2qWfD"
      }
    },
    {
      "cell_type": "markdown",
      "source": [
        "Let's model parallel parking of cars. Suppose there is a street, on which if cars parked in the most efficient manner with no unnecessary gaps, the street would fit $n$ cars (we need only concern ourselves with one side of the street). We can consider this street to be $n$ car-lengths long (where the minimum necessary gap between cars gets incorporated into the unit of \"one car length\"). For ease, we can assume that all the cars we consider take up the same space along a street, i.e. 1 car-length.\n",
        "\n",
        "Suppose the street is initially empty. Then a car parks, and given the entire street is available, the car parks randomly anywhere along the street -- the car has an equal probability of selecting any position along the street. Then a second car comes along, and also parks randomly, with the only constraint that the space the second car occupies cannot overlap with the space occupied by the first car (a physical impossibility). Thus it has an equal probability of selecting any position along the street provided its viable, i.e. it doesn't overlap with the already parked car. The third car also parks randomly, but this time it must not overlap with either of the previous two cars and so on ... until there are no gaps large enough to fit one more car.\n",
        "\n",
        "The process then terminates, with a number of cars necessarily $\\leq n$."
      ],
      "metadata": {
        "id": "8LOX_Bjmx6A2"
      }
    },
    {
      "cell_type": "markdown",
      "source": [
        "**A)** Write a function that simulates the process of an `n`-car-length street filling up with parallel-parked cars. The function should return:\n",
        "\n",
        "*   An array `pos` of floats containing the positions of the front of the cars along the street (note that all cars are assumed to be the same length).\n",
        "*   An integer `occ` that represents the final occupancy of the street number of cars that managed to park along the street."
      ],
      "metadata": {
        "id": "ACTNuGPpcJJM"
      }
    },
    {
      "cell_type": "code",
      "source": [
        "import numpy as np\n",
        "\n",
        "def parallel_park_fill(n: int) -> np.array, int:\n",
        "  # write your code here, and be sure to add lots of comments.\n",
        "\n",
        "  return pos, occ\n",
        "\n",
        "parallel_park_fill(10)"
      ],
      "metadata": {
        "id": "v5J8qSEQqVhl"
      },
      "execution_count": null,
      "outputs": []
    },
    {
      "cell_type": "markdown",
      "source": [
        "Below, you will see a loop that runs this simulation 1 million times, and stores the value of `occ` in an array called `occupancy`. The final line of the cell normalizes `occupancy` by the maximum possible occupancy `n`, to arrive at a fractional value for the occupancy."
      ],
      "metadata": {
        "id": "hMfHlccsdhyR"
      }
    },
    {
      "cell_type": "code",
      "source": [
        "n = 15 #the length of the street in car lengths\n",
        "num_of_trials = 1E6 # the number of times we will repeat the simulation\n",
        "\n",
        "occupancy = np.zeros(num_of_trials) # an array for storing the results of each of our simulations\n",
        "\n",
        "for i in range(num_of_trials): # loop for repeating simulation\n",
        "  _,occupancy[i] = parallel_park_fill(n) # we only care about m and therefore assign\n",
        "\n",
        "occupancy /= n"
      ],
      "metadata": {
        "id": "_kSuK_WBd0N_"
      },
      "execution_count": null,
      "outputs": []
    },
    {
      "cell_type": "markdown",
      "source": [
        "**B)** Generate a histogram based on the `occupancy` array, and compute some descriptive statistics for the simulated fractional occupancies. Does the average value make sense to you? If so, why? If not, why not? Does the relationship between the mean, median, and mode make sense to you? Again, if so, why and if not, why not? Lastly, try changing the value of `n`, and running the loop above again. How does that change your results? What happens as you make `n` bigger and bigger?"
      ],
      "metadata": {
        "id": "69Xmb49FeXs6"
      }
    },
    {
      "cell_type": "code",
      "source": [
        "# write your code here\n",
        "\n"
      ],
      "metadata": {
        "id": "vfh_HfMkgTsx"
      },
      "execution_count": null,
      "outputs": []
    },
    {
      "cell_type": "markdown",
      "source": [
        "(Comment on your analysis here.)\n",
        "\n",
        "\n"
      ],
      "metadata": {
        "id": "uQR46Tz5gWCn"
      }
    },
    {
      "cell_type": "markdown",
      "source": [
        "# Data Tasks"
      ],
      "metadata": {
        "id": "0ifLxqkOxd0G"
      }
    },
    {
      "cell_type": "markdown",
      "source": [
        "## Task 4."
      ],
      "metadata": {
        "id": "o-_Lvmijt-OO"
      }
    },
    {
      "cell_type": "markdown",
      "source": [
        "Thomas Murray, our Chief Community Officer and Speaking Lab faculty, is an aviation geek (his own words). A pastime of his is to play a game called [Airportle](https://www.going.com/airportle), which is identical to the popular game [Wordle](https://www.nytimes.com/games/wordle/index.html), but with 3-letter [IATA codes](https://en.wikipedia.org/wiki/IATA_airport_code) instead of 5-letter words in English.\n",
        "\n",
        "---\n",
        "For those not familiar with the game Wordle, the rules of Airportle are spelled out below:\n",
        "\n",
        "International airports around the world have a 3-letter [IATA code](https://en.wikipedia.org/wiki/IATA_airport_code) used to identify them with ease. The objective in Airportle is to guess the IATA code of the day. You have 6 attempts to guess it correctly, with the game providing helpful feedback on your guess. To be more specific.\n",
        "\n",
        "1.   Any letter in your guess that's not in the IATA code of the day will be grey.\n",
        "2.   Any letter in your guess that is in the IATA code of the day, but is not in the same position in the code will light up yellow.\n",
        "2.   Any letter in your guess that is in the IATA code of the day and is in the correct position in the code will light up green.\n",
        "\n",
        "Here are some examples to help you wrap your head around it:\n",
        "\n",
        "If the IATA code of the day was \"DFW\" and you guessed \"LHR\", all of the letters 'L', 'H', and 'R' will be grey, as none of these are in the code of the day.\n",
        "\n",
        "If the IATA code of the day was \"DFW\" and you guessed \"ORD\", the letters 'O' and 'R' will be grey, but the letter 'D' will be yellow, because it's in the code of the day, but not in the correct position.\n",
        "\n",
        "If the IATA code of the day was \"DFW\" and you guessed \"DEL\", the letter 'D' will light up green because it is in the code of the day and in the correct position, while the letter \"E\" and \"L\" will be grey\n",
        "\n",
        "---\n",
        "\n",
        "Though Thomas is highly knolwedgable about all things aviation, he wants to take his Airportle-ing to another level. Below you will find a pandas dataframe containing all the possible IATA codes of the day."
      ],
      "metadata": {
        "id": "etDgfSW58SZP"
      }
    },
    {
      "cell_type": "code",
      "source": [
        "import pandas as pd\n",
        "\n",
        "url = \"https://raw.githubusercontent.com/bhasiEF/IATA_CodeList/main/airports-code%40public.csv\"\n",
        "airports = pd.read_csv(url, usecols = ['IATA Code',\t'Airport Name',\t'City Name',\t'Country Name'], header=0)\n",
        "\n",
        "airports"
      ],
      "metadata": {
        "id": "-1XgKquk8R0b",
        "colab": {
          "base_uri": "https://localhost:8080/",
          "height": 419
        },
        "outputId": "037f904f-a570-4dab-c1cf-30e72d414806"
      },
      "execution_count": null,
      "outputs": [
        {
          "output_type": "execute_result",
          "data": {
            "text/plain": [
              "     IATA Code       Airport Name          City Name      Country Name\n",
              "0          YCB      Cambridge Bay      Cambridge Bay            Canada\n",
              "1          YKD   Township Airport         Kincardine            Canada\n",
              "2          UPF           Pforheim           Pforheim           Germany\n",
              "3          IXB           Bagdogra           Bagdogra             India\n",
              "4          IMK            Simikot            Simikot             Nepal\n",
              "...        ...                ...                ...               ...\n",
              "9182       HSL             Huslia             Huslia     United States\n",
              "9183       KAQ            Kamulai            Kamulai  Papua New Guinea\n",
              "9184       APE  San Juan Aposento  San Juan Aposento              Peru\n",
              "9185       ODB            Cordoba            Cordoba             Spain\n",
              "9186       KCU            Masindi            Masindi            Uganda\n",
              "\n",
              "[9187 rows x 4 columns]"
            ],
            "text/html": [
              "\n",
              "  <div id=\"df-4b1588b6-ebc3-4e13-b6b2-91e68f2e8352\" class=\"colab-df-container\">\n",
              "    <div>\n",
              "<style scoped>\n",
              "    .dataframe tbody tr th:only-of-type {\n",
              "        vertical-align: middle;\n",
              "    }\n",
              "\n",
              "    .dataframe tbody tr th {\n",
              "        vertical-align: top;\n",
              "    }\n",
              "\n",
              "    .dataframe thead th {\n",
              "        text-align: right;\n",
              "    }\n",
              "</style>\n",
              "<table border=\"1\" class=\"dataframe\">\n",
              "  <thead>\n",
              "    <tr style=\"text-align: right;\">\n",
              "      <th></th>\n",
              "      <th>IATA Code</th>\n",
              "      <th>Airport Name</th>\n",
              "      <th>City Name</th>\n",
              "      <th>Country Name</th>\n",
              "    </tr>\n",
              "  </thead>\n",
              "  <tbody>\n",
              "    <tr>\n",
              "      <th>0</th>\n",
              "      <td>YCB</td>\n",
              "      <td>Cambridge Bay</td>\n",
              "      <td>Cambridge Bay</td>\n",
              "      <td>Canada</td>\n",
              "    </tr>\n",
              "    <tr>\n",
              "      <th>1</th>\n",
              "      <td>YKD</td>\n",
              "      <td>Township Airport</td>\n",
              "      <td>Kincardine</td>\n",
              "      <td>Canada</td>\n",
              "    </tr>\n",
              "    <tr>\n",
              "      <th>2</th>\n",
              "      <td>UPF</td>\n",
              "      <td>Pforheim</td>\n",
              "      <td>Pforheim</td>\n",
              "      <td>Germany</td>\n",
              "    </tr>\n",
              "    <tr>\n",
              "      <th>3</th>\n",
              "      <td>IXB</td>\n",
              "      <td>Bagdogra</td>\n",
              "      <td>Bagdogra</td>\n",
              "      <td>India</td>\n",
              "    </tr>\n",
              "    <tr>\n",
              "      <th>4</th>\n",
              "      <td>IMK</td>\n",
              "      <td>Simikot</td>\n",
              "      <td>Simikot</td>\n",
              "      <td>Nepal</td>\n",
              "    </tr>\n",
              "    <tr>\n",
              "      <th>...</th>\n",
              "      <td>...</td>\n",
              "      <td>...</td>\n",
              "      <td>...</td>\n",
              "      <td>...</td>\n",
              "    </tr>\n",
              "    <tr>\n",
              "      <th>9182</th>\n",
              "      <td>HSL</td>\n",
              "      <td>Huslia</td>\n",
              "      <td>Huslia</td>\n",
              "      <td>United States</td>\n",
              "    </tr>\n",
              "    <tr>\n",
              "      <th>9183</th>\n",
              "      <td>KAQ</td>\n",
              "      <td>Kamulai</td>\n",
              "      <td>Kamulai</td>\n",
              "      <td>Papua New Guinea</td>\n",
              "    </tr>\n",
              "    <tr>\n",
              "      <th>9184</th>\n",
              "      <td>APE</td>\n",
              "      <td>San Juan Aposento</td>\n",
              "      <td>San Juan Aposento</td>\n",
              "      <td>Peru</td>\n",
              "    </tr>\n",
              "    <tr>\n",
              "      <th>9185</th>\n",
              "      <td>ODB</td>\n",
              "      <td>Cordoba</td>\n",
              "      <td>Cordoba</td>\n",
              "      <td>Spain</td>\n",
              "    </tr>\n",
              "    <tr>\n",
              "      <th>9186</th>\n",
              "      <td>KCU</td>\n",
              "      <td>Masindi</td>\n",
              "      <td>Masindi</td>\n",
              "      <td>Uganda</td>\n",
              "    </tr>\n",
              "  </tbody>\n",
              "</table>\n",
              "<p>9187 rows × 4 columns</p>\n",
              "</div>\n",
              "    <div class=\"colab-df-buttons\">\n",
              "\n",
              "  <div class=\"colab-df-container\">\n",
              "    <button class=\"colab-df-convert\" onclick=\"convertToInteractive('df-4b1588b6-ebc3-4e13-b6b2-91e68f2e8352')\"\n",
              "            title=\"Convert this dataframe to an interactive table.\"\n",
              "            style=\"display:none;\">\n",
              "\n",
              "  <svg xmlns=\"http://www.w3.org/2000/svg\" height=\"24px\" viewBox=\"0 -960 960 960\">\n",
              "    <path d=\"M120-120v-720h720v720H120Zm60-500h600v-160H180v160Zm220 220h160v-160H400v160Zm0 220h160v-160H400v160ZM180-400h160v-160H180v160Zm440 0h160v-160H620v160ZM180-180h160v-160H180v160Zm440 0h160v-160H620v160Z\"/>\n",
              "  </svg>\n",
              "    </button>\n",
              "\n",
              "  <style>\n",
              "    .colab-df-container {\n",
              "      display:flex;\n",
              "      gap: 12px;\n",
              "    }\n",
              "\n",
              "    .colab-df-convert {\n",
              "      background-color: #E8F0FE;\n",
              "      border: none;\n",
              "      border-radius: 50%;\n",
              "      cursor: pointer;\n",
              "      display: none;\n",
              "      fill: #1967D2;\n",
              "      height: 32px;\n",
              "      padding: 0 0 0 0;\n",
              "      width: 32px;\n",
              "    }\n",
              "\n",
              "    .colab-df-convert:hover {\n",
              "      background-color: #E2EBFA;\n",
              "      box-shadow: 0px 1px 2px rgba(60, 64, 67, 0.3), 0px 1px 3px 1px rgba(60, 64, 67, 0.15);\n",
              "      fill: #174EA6;\n",
              "    }\n",
              "\n",
              "    .colab-df-buttons div {\n",
              "      margin-bottom: 4px;\n",
              "    }\n",
              "\n",
              "    [theme=dark] .colab-df-convert {\n",
              "      background-color: #3B4455;\n",
              "      fill: #D2E3FC;\n",
              "    }\n",
              "\n",
              "    [theme=dark] .colab-df-convert:hover {\n",
              "      background-color: #434B5C;\n",
              "      box-shadow: 0px 1px 3px 1px rgba(0, 0, 0, 0.15);\n",
              "      filter: drop-shadow(0px 1px 2px rgba(0, 0, 0, 0.3));\n",
              "      fill: #FFFFFF;\n",
              "    }\n",
              "  </style>\n",
              "\n",
              "    <script>\n",
              "      const buttonEl =\n",
              "        document.querySelector('#df-4b1588b6-ebc3-4e13-b6b2-91e68f2e8352 button.colab-df-convert');\n",
              "      buttonEl.style.display =\n",
              "        google.colab.kernel.accessAllowed ? 'block' : 'none';\n",
              "\n",
              "      async function convertToInteractive(key) {\n",
              "        const element = document.querySelector('#df-4b1588b6-ebc3-4e13-b6b2-91e68f2e8352');\n",
              "        const dataTable =\n",
              "          await google.colab.kernel.invokeFunction('convertToInteractive',\n",
              "                                                    [key], {});\n",
              "        if (!dataTable) return;\n",
              "\n",
              "        const docLinkHtml = 'Like what you see? Visit the ' +\n",
              "          '<a target=\"_blank\" href=https://colab.research.google.com/notebooks/data_table.ipynb>data table notebook</a>'\n",
              "          + ' to learn more about interactive tables.';\n",
              "        element.innerHTML = '';\n",
              "        dataTable['output_type'] = 'display_data';\n",
              "        await google.colab.output.renderOutput(dataTable, element);\n",
              "        const docLink = document.createElement('div');\n",
              "        docLink.innerHTML = docLinkHtml;\n",
              "        element.appendChild(docLink);\n",
              "      }\n",
              "    </script>\n",
              "  </div>\n",
              "\n",
              "\n",
              "<div id=\"df-6b899218-2ba6-4b1e-829f-4682d3a47bb6\">\n",
              "  <button class=\"colab-df-quickchart\" onclick=\"quickchart('df-6b899218-2ba6-4b1e-829f-4682d3a47bb6')\"\n",
              "            title=\"Suggest charts\"\n",
              "            style=\"display:none;\">\n",
              "\n",
              "<svg xmlns=\"http://www.w3.org/2000/svg\" height=\"24px\"viewBox=\"0 0 24 24\"\n",
              "     width=\"24px\">\n",
              "    <g>\n",
              "        <path d=\"M19 3H5c-1.1 0-2 .9-2 2v14c0 1.1.9 2 2 2h14c1.1 0 2-.9 2-2V5c0-1.1-.9-2-2-2zM9 17H7v-7h2v7zm4 0h-2V7h2v10zm4 0h-2v-4h2v4z\"/>\n",
              "    </g>\n",
              "</svg>\n",
              "  </button>\n",
              "\n",
              "<style>\n",
              "  .colab-df-quickchart {\n",
              "      --bg-color: #E8F0FE;\n",
              "      --fill-color: #1967D2;\n",
              "      --hover-bg-color: #E2EBFA;\n",
              "      --hover-fill-color: #174EA6;\n",
              "      --disabled-fill-color: #AAA;\n",
              "      --disabled-bg-color: #DDD;\n",
              "  }\n",
              "\n",
              "  [theme=dark] .colab-df-quickchart {\n",
              "      --bg-color: #3B4455;\n",
              "      --fill-color: #D2E3FC;\n",
              "      --hover-bg-color: #434B5C;\n",
              "      --hover-fill-color: #FFFFFF;\n",
              "      --disabled-bg-color: #3B4455;\n",
              "      --disabled-fill-color: #666;\n",
              "  }\n",
              "\n",
              "  .colab-df-quickchart {\n",
              "    background-color: var(--bg-color);\n",
              "    border: none;\n",
              "    border-radius: 50%;\n",
              "    cursor: pointer;\n",
              "    display: none;\n",
              "    fill: var(--fill-color);\n",
              "    height: 32px;\n",
              "    padding: 0;\n",
              "    width: 32px;\n",
              "  }\n",
              "\n",
              "  .colab-df-quickchart:hover {\n",
              "    background-color: var(--hover-bg-color);\n",
              "    box-shadow: 0 1px 2px rgba(60, 64, 67, 0.3), 0 1px 3px 1px rgba(60, 64, 67, 0.15);\n",
              "    fill: var(--button-hover-fill-color);\n",
              "  }\n",
              "\n",
              "  .colab-df-quickchart-complete:disabled,\n",
              "  .colab-df-quickchart-complete:disabled:hover {\n",
              "    background-color: var(--disabled-bg-color);\n",
              "    fill: var(--disabled-fill-color);\n",
              "    box-shadow: none;\n",
              "  }\n",
              "\n",
              "  .colab-df-spinner {\n",
              "    border: 2px solid var(--fill-color);\n",
              "    border-color: transparent;\n",
              "    border-bottom-color: var(--fill-color);\n",
              "    animation:\n",
              "      spin 1s steps(1) infinite;\n",
              "  }\n",
              "\n",
              "  @keyframes spin {\n",
              "    0% {\n",
              "      border-color: transparent;\n",
              "      border-bottom-color: var(--fill-color);\n",
              "      border-left-color: var(--fill-color);\n",
              "    }\n",
              "    20% {\n",
              "      border-color: transparent;\n",
              "      border-left-color: var(--fill-color);\n",
              "      border-top-color: var(--fill-color);\n",
              "    }\n",
              "    30% {\n",
              "      border-color: transparent;\n",
              "      border-left-color: var(--fill-color);\n",
              "      border-top-color: var(--fill-color);\n",
              "      border-right-color: var(--fill-color);\n",
              "    }\n",
              "    40% {\n",
              "      border-color: transparent;\n",
              "      border-right-color: var(--fill-color);\n",
              "      border-top-color: var(--fill-color);\n",
              "    }\n",
              "    60% {\n",
              "      border-color: transparent;\n",
              "      border-right-color: var(--fill-color);\n",
              "    }\n",
              "    80% {\n",
              "      border-color: transparent;\n",
              "      border-right-color: var(--fill-color);\n",
              "      border-bottom-color: var(--fill-color);\n",
              "    }\n",
              "    90% {\n",
              "      border-color: transparent;\n",
              "      border-bottom-color: var(--fill-color);\n",
              "    }\n",
              "  }\n",
              "</style>\n",
              "\n",
              "  <script>\n",
              "    async function quickchart(key) {\n",
              "      const quickchartButtonEl =\n",
              "        document.querySelector('#' + key + ' button');\n",
              "      quickchartButtonEl.disabled = true;  // To prevent multiple clicks.\n",
              "      quickchartButtonEl.classList.add('colab-df-spinner');\n",
              "      try {\n",
              "        const charts = await google.colab.kernel.invokeFunction(\n",
              "            'suggestCharts', [key], {});\n",
              "      } catch (error) {\n",
              "        console.error('Error during call to suggestCharts:', error);\n",
              "      }\n",
              "      quickchartButtonEl.classList.remove('colab-df-spinner');\n",
              "      quickchartButtonEl.classList.add('colab-df-quickchart-complete');\n",
              "    }\n",
              "    (() => {\n",
              "      let quickchartButtonEl =\n",
              "        document.querySelector('#df-6b899218-2ba6-4b1e-829f-4682d3a47bb6 button');\n",
              "      quickchartButtonEl.style.display =\n",
              "        google.colab.kernel.accessAllowed ? 'block' : 'none';\n",
              "    })();\n",
              "  </script>\n",
              "</div>\n",
              "    </div>\n",
              "  </div>\n"
            ],
            "application/vnd.google.colaboratory.intrinsic+json": {
              "type": "dataframe",
              "variable_name": "dataset",
              "summary": "{\n  \"name\": \"dataset\",\n  \"rows\": 9187,\n  \"fields\": [\n    {\n      \"column\": \"IATA Code\",\n      \"properties\": {\n        \"dtype\": \"string\",\n        \"num_unique_values\": 9187,\n        \"samples\": [\n          \"CIL\",\n          \"OCV\",\n          \"WWT\"\n        ],\n        \"semantic_type\": \"\",\n        \"description\": \"\"\n      }\n    },\n    {\n      \"column\": \"Airport Name\",\n      \"properties\": {\n        \"dtype\": \"string\",\n        \"num_unique_values\": 8612,\n        \"samples\": [\n          \"Yap International\",\n          \"Lamap\",\n          \"Redzikowo\"\n        ],\n        \"semantic_type\": \"\",\n        \"description\": \"\"\n      }\n    },\n    {\n      \"column\": \"City Name\",\n      \"properties\": {\n        \"dtype\": \"string\",\n        \"num_unique_values\": 8361,\n        \"samples\": [\n          \"Kelowna, BC\",\n          \"Dolpa\",\n          \"Telluride\"\n        ],\n        \"semantic_type\": \"\",\n        \"description\": \"\"\n      }\n    },\n    {\n      \"column\": \"Country Name\",\n      \"properties\": {\n        \"dtype\": \"category\",\n        \"num_unique_values\": 249,\n        \"samples\": [\n          \"Iceland\",\n          \"United States\",\n          \"Tunisia\"\n        ],\n        \"semantic_type\": \"\",\n        \"description\": \"\"\n      }\n    }\n  ]\n}"
            }
          },
          "metadata": {},
          "execution_count": 20
        }
      ]
    },
    {
      "cell_type": "markdown",
      "source": [
        "\n",
        "**A)** Using your data skills, analyze the list of codes to make some strategy recommendations so that Thomas can improve his chances of guessing the correct airport code with as few guesses as possible on average. For example, an obvious strategy question might be:\n",
        "\n",
        "Is there an optimal starting guess that improves your chances of guessing the correct code with as few guesses as possible on average? If so what would that be?\n",
        "\n",
        "After this, the strategy questions abound! Where should Thomas go after this initial guess? This is an open-ended task, so use it to demonstate your critical engagement and creativity!\n",
        "\n",
        "Along with your code for analysis, detail your strategy recommendations in the text cell below."
      ],
      "metadata": {
        "id": "dcjzb5EBH5vE"
      }
    },
    {
      "cell_type": "code",
      "source": [
        "# write your code here; make sure to add lots of comments explaining your code\n",
        "\n"
      ],
      "metadata": {
        "id": "LwfN8ZfOIbUL"
      },
      "execution_count": null,
      "outputs": []
    },
    {
      "cell_type": "markdown",
      "source": [
        "(Detail your strategy recommendations here)\n",
        "\n"
      ],
      "metadata": {
        "id": "XWB0kvKWIfMr"
      }
    },
    {
      "cell_type": "markdown",
      "source": [
        "**B)** Speculate on how the optimal strategy for Airportle may differ from that for Wordle (played with 5 letter English words than 3-letter IATA codes). In what way might this difference reflect the difference between the structure of the language versus abbreviation codes?"
      ],
      "metadata": {
        "id": "XXNGF47bIp3W"
      }
    },
    {
      "cell_type": "markdown",
      "source": [
        "(Walk us through your speculative reasoning here)\n",
        "\n"
      ],
      "metadata": {
        "id": "4aFwrJe5Jc4s"
      }
    },
    {
      "cell_type": "markdown",
      "source": [
        "## Task 5.\n",
        "\n"
      ],
      "metadata": {
        "id": "KGc3ZTbSyEVo"
      }
    },
    {
      "cell_type": "markdown",
      "source": [
        "The inferences made by data scientists based on analyzing data can only be as good as the datasets themselves. Therefore, the practice of data science can run into serious problems when different datasets about the same underlying phenomenon appear to be in disagreement.\n",
        "\n",
        "For instance, consider two datasets on death rates due to mental health and substance abuse disorders across the world, from the 1990s to the 2010s: one from the [World Health Organization (WHO)](https://ourworldindata.org/grapher/death-rate-from-mental-health-and-substance-use-disorders-who?time=latest&country=~USA), and the other from the [Institute for Health Metrics and Evaluation (IHME)](https://ourworldindata.org/grapher/death-rates-from-mental-health-and-substance-use-disorders). The dataset from the IHME appears to be [age-standardized](https://ourworldindata.org/age-standardization), while the dataset from the WHO appears to be \"crude rates\" (the technical term for rates that have not been adjusted in any way). Thus these datasets (a) come from two distinct sources and (b) quantify the same phenomenon in different ways.\n",
        "\n",
        "Below you will find both datasets imported in as dataframes:"
      ],
      "metadata": {
        "id": "mWJPg2l8J2eg"
      }
    },
    {
      "cell_type": "code",
      "source": [
        "import pandas as pd\n",
        "\n",
        "url_ihme = \"https://raw.githubusercontent.com/bhasiEF/OWiD_MHSA_Deaths/main/IHME-age-adjusted-death-rates-from-mental-health-and-substance-use-disorders.csv\"\n",
        "ihme = pd.read_csv(url_ihme, header=0)\n",
        "ihme"
      ],
      "metadata": {
        "id": "EAsbBaFIJ11m",
        "colab": {
          "base_uri": "https://localhost:8080/",
          "height": 419
        },
        "outputId": "fa525e3d-ecd1-49d3-ae10-e41bc3afdae4"
      },
      "execution_count": null,
      "outputs": [
        {
          "output_type": "execute_result",
          "data": {
            "text/plain": [
              "           Entity Code  Year  \\\n",
              "0     Afghanistan  AFG  1990   \n",
              "1     Afghanistan  AFG  1991   \n",
              "2     Afghanistan  AFG  1992   \n",
              "3     Afghanistan  AFG  1993   \n",
              "4     Afghanistan  AFG  1994   \n",
              "...           ...  ...   ...   \n",
              "6463     Zimbabwe  ZWE  2013   \n",
              "6464     Zimbabwe  ZWE  2014   \n",
              "6465     Zimbabwe  ZWE  2015   \n",
              "6466     Zimbabwe  ZWE  2016   \n",
              "6467     Zimbabwe  ZWE  2017   \n",
              "\n",
              "      Deaths - Mental and substance use disorders - Sex: Both - Age: Age-standardized (Rate)  \n",
              "0                                              0.144067                                       \n",
              "1                                              0.140653                                       \n",
              "2                                              0.135279                                       \n",
              "3                                              0.133047                                       \n",
              "4                                              0.130073                                       \n",
              "...                                                 ...                                       \n",
              "6463                                           1.379243                                       \n",
              "6464                                           1.398058                                       \n",
              "6465                                           1.413464                                       \n",
              "6466                                           1.445058                                       \n",
              "6467                                           1.470020                                       \n",
              "\n",
              "[6468 rows x 4 columns]"
            ],
            "text/html": [
              "\n",
              "  <div id=\"df-9303b007-09ab-4170-aec8-2369b2753c9d\" class=\"colab-df-container\">\n",
              "    <div>\n",
              "<style scoped>\n",
              "    .dataframe tbody tr th:only-of-type {\n",
              "        vertical-align: middle;\n",
              "    }\n",
              "\n",
              "    .dataframe tbody tr th {\n",
              "        vertical-align: top;\n",
              "    }\n",
              "\n",
              "    .dataframe thead th {\n",
              "        text-align: right;\n",
              "    }\n",
              "</style>\n",
              "<table border=\"1\" class=\"dataframe\">\n",
              "  <thead>\n",
              "    <tr style=\"text-align: right;\">\n",
              "      <th></th>\n",
              "      <th>Entity</th>\n",
              "      <th>Code</th>\n",
              "      <th>Year</th>\n",
              "      <th>Deaths - Mental and substance use disorders - Sex: Both - Age: Age-standardized (Rate)</th>\n",
              "    </tr>\n",
              "  </thead>\n",
              "  <tbody>\n",
              "    <tr>\n",
              "      <th>0</th>\n",
              "      <td>Afghanistan</td>\n",
              "      <td>AFG</td>\n",
              "      <td>1990</td>\n",
              "      <td>0.144067</td>\n",
              "    </tr>\n",
              "    <tr>\n",
              "      <th>1</th>\n",
              "      <td>Afghanistan</td>\n",
              "      <td>AFG</td>\n",
              "      <td>1991</td>\n",
              "      <td>0.140653</td>\n",
              "    </tr>\n",
              "    <tr>\n",
              "      <th>2</th>\n",
              "      <td>Afghanistan</td>\n",
              "      <td>AFG</td>\n",
              "      <td>1992</td>\n",
              "      <td>0.135279</td>\n",
              "    </tr>\n",
              "    <tr>\n",
              "      <th>3</th>\n",
              "      <td>Afghanistan</td>\n",
              "      <td>AFG</td>\n",
              "      <td>1993</td>\n",
              "      <td>0.133047</td>\n",
              "    </tr>\n",
              "    <tr>\n",
              "      <th>4</th>\n",
              "      <td>Afghanistan</td>\n",
              "      <td>AFG</td>\n",
              "      <td>1994</td>\n",
              "      <td>0.130073</td>\n",
              "    </tr>\n",
              "    <tr>\n",
              "      <th>...</th>\n",
              "      <td>...</td>\n",
              "      <td>...</td>\n",
              "      <td>...</td>\n",
              "      <td>...</td>\n",
              "    </tr>\n",
              "    <tr>\n",
              "      <th>6463</th>\n",
              "      <td>Zimbabwe</td>\n",
              "      <td>ZWE</td>\n",
              "      <td>2013</td>\n",
              "      <td>1.379243</td>\n",
              "    </tr>\n",
              "    <tr>\n",
              "      <th>6464</th>\n",
              "      <td>Zimbabwe</td>\n",
              "      <td>ZWE</td>\n",
              "      <td>2014</td>\n",
              "      <td>1.398058</td>\n",
              "    </tr>\n",
              "    <tr>\n",
              "      <th>6465</th>\n",
              "      <td>Zimbabwe</td>\n",
              "      <td>ZWE</td>\n",
              "      <td>2015</td>\n",
              "      <td>1.413464</td>\n",
              "    </tr>\n",
              "    <tr>\n",
              "      <th>6466</th>\n",
              "      <td>Zimbabwe</td>\n",
              "      <td>ZWE</td>\n",
              "      <td>2016</td>\n",
              "      <td>1.445058</td>\n",
              "    </tr>\n",
              "    <tr>\n",
              "      <th>6467</th>\n",
              "      <td>Zimbabwe</td>\n",
              "      <td>ZWE</td>\n",
              "      <td>2017</td>\n",
              "      <td>1.470020</td>\n",
              "    </tr>\n",
              "  </tbody>\n",
              "</table>\n",
              "<p>6468 rows × 4 columns</p>\n",
              "</div>\n",
              "    <div class=\"colab-df-buttons\">\n",
              "\n",
              "  <div class=\"colab-df-container\">\n",
              "    <button class=\"colab-df-convert\" onclick=\"convertToInteractive('df-9303b007-09ab-4170-aec8-2369b2753c9d')\"\n",
              "            title=\"Convert this dataframe to an interactive table.\"\n",
              "            style=\"display:none;\">\n",
              "\n",
              "  <svg xmlns=\"http://www.w3.org/2000/svg\" height=\"24px\" viewBox=\"0 -960 960 960\">\n",
              "    <path d=\"M120-120v-720h720v720H120Zm60-500h600v-160H180v160Zm220 220h160v-160H400v160Zm0 220h160v-160H400v160ZM180-400h160v-160H180v160Zm440 0h160v-160H620v160ZM180-180h160v-160H180v160Zm440 0h160v-160H620v160Z\"/>\n",
              "  </svg>\n",
              "    </button>\n",
              "\n",
              "  <style>\n",
              "    .colab-df-container {\n",
              "      display:flex;\n",
              "      gap: 12px;\n",
              "    }\n",
              "\n",
              "    .colab-df-convert {\n",
              "      background-color: #E8F0FE;\n",
              "      border: none;\n",
              "      border-radius: 50%;\n",
              "      cursor: pointer;\n",
              "      display: none;\n",
              "      fill: #1967D2;\n",
              "      height: 32px;\n",
              "      padding: 0 0 0 0;\n",
              "      width: 32px;\n",
              "    }\n",
              "\n",
              "    .colab-df-convert:hover {\n",
              "      background-color: #E2EBFA;\n",
              "      box-shadow: 0px 1px 2px rgba(60, 64, 67, 0.3), 0px 1px 3px 1px rgba(60, 64, 67, 0.15);\n",
              "      fill: #174EA6;\n",
              "    }\n",
              "\n",
              "    .colab-df-buttons div {\n",
              "      margin-bottom: 4px;\n",
              "    }\n",
              "\n",
              "    [theme=dark] .colab-df-convert {\n",
              "      background-color: #3B4455;\n",
              "      fill: #D2E3FC;\n",
              "    }\n",
              "\n",
              "    [theme=dark] .colab-df-convert:hover {\n",
              "      background-color: #434B5C;\n",
              "      box-shadow: 0px 1px 3px 1px rgba(0, 0, 0, 0.15);\n",
              "      filter: drop-shadow(0px 1px 2px rgba(0, 0, 0, 0.3));\n",
              "      fill: #FFFFFF;\n",
              "    }\n",
              "  </style>\n",
              "\n",
              "    <script>\n",
              "      const buttonEl =\n",
              "        document.querySelector('#df-9303b007-09ab-4170-aec8-2369b2753c9d button.colab-df-convert');\n",
              "      buttonEl.style.display =\n",
              "        google.colab.kernel.accessAllowed ? 'block' : 'none';\n",
              "\n",
              "      async function convertToInteractive(key) {\n",
              "        const element = document.querySelector('#df-9303b007-09ab-4170-aec8-2369b2753c9d');\n",
              "        const dataTable =\n",
              "          await google.colab.kernel.invokeFunction('convertToInteractive',\n",
              "                                                    [key], {});\n",
              "        if (!dataTable) return;\n",
              "\n",
              "        const docLinkHtml = 'Like what you see? Visit the ' +\n",
              "          '<a target=\"_blank\" href=https://colab.research.google.com/notebooks/data_table.ipynb>data table notebook</a>'\n",
              "          + ' to learn more about interactive tables.';\n",
              "        element.innerHTML = '';\n",
              "        dataTable['output_type'] = 'display_data';\n",
              "        await google.colab.output.renderOutput(dataTable, element);\n",
              "        const docLink = document.createElement('div');\n",
              "        docLink.innerHTML = docLinkHtml;\n",
              "        element.appendChild(docLink);\n",
              "      }\n",
              "    </script>\n",
              "  </div>\n",
              "\n",
              "\n",
              "<div id=\"df-88c5fea6-31e7-47b7-904b-193ec0c7316f\">\n",
              "  <button class=\"colab-df-quickchart\" onclick=\"quickchart('df-88c5fea6-31e7-47b7-904b-193ec0c7316f')\"\n",
              "            title=\"Suggest charts\"\n",
              "            style=\"display:none;\">\n",
              "\n",
              "<svg xmlns=\"http://www.w3.org/2000/svg\" height=\"24px\"viewBox=\"0 0 24 24\"\n",
              "     width=\"24px\">\n",
              "    <g>\n",
              "        <path d=\"M19 3H5c-1.1 0-2 .9-2 2v14c0 1.1.9 2 2 2h14c1.1 0 2-.9 2-2V5c0-1.1-.9-2-2-2zM9 17H7v-7h2v7zm4 0h-2V7h2v10zm4 0h-2v-4h2v4z\"/>\n",
              "    </g>\n",
              "</svg>\n",
              "  </button>\n",
              "\n",
              "<style>\n",
              "  .colab-df-quickchart {\n",
              "      --bg-color: #E8F0FE;\n",
              "      --fill-color: #1967D2;\n",
              "      --hover-bg-color: #E2EBFA;\n",
              "      --hover-fill-color: #174EA6;\n",
              "      --disabled-fill-color: #AAA;\n",
              "      --disabled-bg-color: #DDD;\n",
              "  }\n",
              "\n",
              "  [theme=dark] .colab-df-quickchart {\n",
              "      --bg-color: #3B4455;\n",
              "      --fill-color: #D2E3FC;\n",
              "      --hover-bg-color: #434B5C;\n",
              "      --hover-fill-color: #FFFFFF;\n",
              "      --disabled-bg-color: #3B4455;\n",
              "      --disabled-fill-color: #666;\n",
              "  }\n",
              "\n",
              "  .colab-df-quickchart {\n",
              "    background-color: var(--bg-color);\n",
              "    border: none;\n",
              "    border-radius: 50%;\n",
              "    cursor: pointer;\n",
              "    display: none;\n",
              "    fill: var(--fill-color);\n",
              "    height: 32px;\n",
              "    padding: 0;\n",
              "    width: 32px;\n",
              "  }\n",
              "\n",
              "  .colab-df-quickchart:hover {\n",
              "    background-color: var(--hover-bg-color);\n",
              "    box-shadow: 0 1px 2px rgba(60, 64, 67, 0.3), 0 1px 3px 1px rgba(60, 64, 67, 0.15);\n",
              "    fill: var(--button-hover-fill-color);\n",
              "  }\n",
              "\n",
              "  .colab-df-quickchart-complete:disabled,\n",
              "  .colab-df-quickchart-complete:disabled:hover {\n",
              "    background-color: var(--disabled-bg-color);\n",
              "    fill: var(--disabled-fill-color);\n",
              "    box-shadow: none;\n",
              "  }\n",
              "\n",
              "  .colab-df-spinner {\n",
              "    border: 2px solid var(--fill-color);\n",
              "    border-color: transparent;\n",
              "    border-bottom-color: var(--fill-color);\n",
              "    animation:\n",
              "      spin 1s steps(1) infinite;\n",
              "  }\n",
              "\n",
              "  @keyframes spin {\n",
              "    0% {\n",
              "      border-color: transparent;\n",
              "      border-bottom-color: var(--fill-color);\n",
              "      border-left-color: var(--fill-color);\n",
              "    }\n",
              "    20% {\n",
              "      border-color: transparent;\n",
              "      border-left-color: var(--fill-color);\n",
              "      border-top-color: var(--fill-color);\n",
              "    }\n",
              "    30% {\n",
              "      border-color: transparent;\n",
              "      border-left-color: var(--fill-color);\n",
              "      border-top-color: var(--fill-color);\n",
              "      border-right-color: var(--fill-color);\n",
              "    }\n",
              "    40% {\n",
              "      border-color: transparent;\n",
              "      border-right-color: var(--fill-color);\n",
              "      border-top-color: var(--fill-color);\n",
              "    }\n",
              "    60% {\n",
              "      border-color: transparent;\n",
              "      border-right-color: var(--fill-color);\n",
              "    }\n",
              "    80% {\n",
              "      border-color: transparent;\n",
              "      border-right-color: var(--fill-color);\n",
              "      border-bottom-color: var(--fill-color);\n",
              "    }\n",
              "    90% {\n",
              "      border-color: transparent;\n",
              "      border-bottom-color: var(--fill-color);\n",
              "    }\n",
              "  }\n",
              "</style>\n",
              "\n",
              "  <script>\n",
              "    async function quickchart(key) {\n",
              "      const quickchartButtonEl =\n",
              "        document.querySelector('#' + key + ' button');\n",
              "      quickchartButtonEl.disabled = true;  // To prevent multiple clicks.\n",
              "      quickchartButtonEl.classList.add('colab-df-spinner');\n",
              "      try {\n",
              "        const charts = await google.colab.kernel.invokeFunction(\n",
              "            'suggestCharts', [key], {});\n",
              "      } catch (error) {\n",
              "        console.error('Error during call to suggestCharts:', error);\n",
              "      }\n",
              "      quickchartButtonEl.classList.remove('colab-df-spinner');\n",
              "      quickchartButtonEl.classList.add('colab-df-quickchart-complete');\n",
              "    }\n",
              "    (() => {\n",
              "      let quickchartButtonEl =\n",
              "        document.querySelector('#df-88c5fea6-31e7-47b7-904b-193ec0c7316f button');\n",
              "      quickchartButtonEl.style.display =\n",
              "        google.colab.kernel.accessAllowed ? 'block' : 'none';\n",
              "    })();\n",
              "  </script>\n",
              "</div>\n",
              "    </div>\n",
              "  </div>\n"
            ],
            "application/vnd.google.colaboratory.intrinsic+json": {
              "type": "dataframe",
              "variable_name": "ihme",
              "summary": "{\n  \"name\": \"ihme\",\n  \"rows\": 6468,\n  \"fields\": [\n    {\n      \"column\": \"Entity\",\n      \"properties\": {\n        \"dtype\": \"category\",\n        \"num_unique_values\": 231,\n        \"samples\": [\n          \"United States Virgin Islands\",\n          \"El Salvador\",\n          \"Armenia\"\n        ],\n        \"semantic_type\": \"\",\n        \"description\": \"\"\n      }\n    },\n    {\n      \"column\": \"Code\",\n      \"properties\": {\n        \"dtype\": \"category\",\n        \"num_unique_values\": 196,\n        \"samples\": [\n          \"PHL\",\n          \"MEX\",\n          \"BLR\"\n        ],\n        \"semantic_type\": \"\",\n        \"description\": \"\"\n      }\n    },\n    {\n      \"column\": \"Year\",\n      \"properties\": {\n        \"dtype\": \"number\",\n        \"std\": 8,\n        \"min\": 1990,\n        \"max\": 2017,\n        \"num_unique_values\": 28,\n        \"samples\": [\n          1999,\n          2015,\n          1998\n        ],\n        \"semantic_type\": \"\",\n        \"description\": \"\"\n      }\n    },\n    {\n      \"column\": \"Deaths - Mental and substance use disorders - Sex: Both - Age: Age-standardized (Rate)\",\n      \"properties\": {\n        \"dtype\": \"number\",\n        \"std\": 9.795961538377737,\n        \"min\": 0.0345645476147872,\n        \"max\": 89.79787432635888,\n        \"num_unique_values\": 6468,\n        \"samples\": [\n          22.53449044863718,\n          0.3683774861940906,\n          2.812040261544389\n        ],\n        \"semantic_type\": \"\",\n        \"description\": \"\"\n      }\n    }\n  ]\n}"
            }
          },
          "metadata": {},
          "execution_count": 6
        }
      ]
    },
    {
      "cell_type": "code",
      "source": [
        "url_who = \"https://raw.githubusercontent.com/bhasiEF/OWiD_MHSA_Deaths/main/WHO-death-rate-from-mental-health-and-substance-use-disorders.csv\"\n",
        "who = pd.read_csv(url_who, header=0)\n",
        "who"
      ],
      "metadata": {
        "colab": {
          "base_uri": "https://localhost:8080/",
          "height": 419
        },
        "id": "b-BX3kwO2RkU",
        "outputId": "7ca4a6e5-de27-45fa-e35c-079e359b426d"
      },
      "execution_count": null,
      "outputs": [
        {
          "output_type": "execute_result",
          "data": {
            "text/plain": [
              "           Entity Code  Year  \\\n",
              "0     Afghanistan  AFG  2000   \n",
              "1     Afghanistan  AFG  2001   \n",
              "2     Afghanistan  AFG  2002   \n",
              "3     Afghanistan  AFG  2003   \n",
              "4     Afghanistan  AFG  2004   \n",
              "...           ...  ...   ...   \n",
              "3795     Zimbabwe  ZWE  2015   \n",
              "3796     Zimbabwe  ZWE  2016   \n",
              "3797     Zimbabwe  ZWE  2017   \n",
              "3798     Zimbabwe  ZWE  2018   \n",
              "3799     Zimbabwe  ZWE  2019   \n",
              "\n",
              "      Death rate per 100,000 people - Cause: Mental and substance use disorders - Sex: Both sexes - Age group: ALLAges  \n",
              "0                                                  1.12                                                                 \n",
              "1                                                  1.15                                                                 \n",
              "2                                                  1.17                                                                 \n",
              "3                                                  1.19                                                                 \n",
              "4                                                  1.23                                                                 \n",
              "...                                                 ...                                                                 \n",
              "3795                                               1.73                                                                 \n",
              "3796                                               1.75                                                                 \n",
              "3797                                               1.75                                                                 \n",
              "3798                                               1.76                                                                 \n",
              "3799                                               1.79                                                                 \n",
              "\n",
              "[3800 rows x 4 columns]"
            ],
            "text/html": [
              "\n",
              "  <div id=\"df-041b22c0-2fde-43ea-9d2e-c53a740b917a\" class=\"colab-df-container\">\n",
              "    <div>\n",
              "<style scoped>\n",
              "    .dataframe tbody tr th:only-of-type {\n",
              "        vertical-align: middle;\n",
              "    }\n",
              "\n",
              "    .dataframe tbody tr th {\n",
              "        vertical-align: top;\n",
              "    }\n",
              "\n",
              "    .dataframe thead th {\n",
              "        text-align: right;\n",
              "    }\n",
              "</style>\n",
              "<table border=\"1\" class=\"dataframe\">\n",
              "  <thead>\n",
              "    <tr style=\"text-align: right;\">\n",
              "      <th></th>\n",
              "      <th>Entity</th>\n",
              "      <th>Code</th>\n",
              "      <th>Year</th>\n",
              "      <th>Death rate per 100,000 people - Cause: Mental and substance use disorders - Sex: Both sexes - Age group: ALLAges</th>\n",
              "    </tr>\n",
              "  </thead>\n",
              "  <tbody>\n",
              "    <tr>\n",
              "      <th>0</th>\n",
              "      <td>Afghanistan</td>\n",
              "      <td>AFG</td>\n",
              "      <td>2000</td>\n",
              "      <td>1.12</td>\n",
              "    </tr>\n",
              "    <tr>\n",
              "      <th>1</th>\n",
              "      <td>Afghanistan</td>\n",
              "      <td>AFG</td>\n",
              "      <td>2001</td>\n",
              "      <td>1.15</td>\n",
              "    </tr>\n",
              "    <tr>\n",
              "      <th>2</th>\n",
              "      <td>Afghanistan</td>\n",
              "      <td>AFG</td>\n",
              "      <td>2002</td>\n",
              "      <td>1.17</td>\n",
              "    </tr>\n",
              "    <tr>\n",
              "      <th>3</th>\n",
              "      <td>Afghanistan</td>\n",
              "      <td>AFG</td>\n",
              "      <td>2003</td>\n",
              "      <td>1.19</td>\n",
              "    </tr>\n",
              "    <tr>\n",
              "      <th>4</th>\n",
              "      <td>Afghanistan</td>\n",
              "      <td>AFG</td>\n",
              "      <td>2004</td>\n",
              "      <td>1.23</td>\n",
              "    </tr>\n",
              "    <tr>\n",
              "      <th>...</th>\n",
              "      <td>...</td>\n",
              "      <td>...</td>\n",
              "      <td>...</td>\n",
              "      <td>...</td>\n",
              "    </tr>\n",
              "    <tr>\n",
              "      <th>3795</th>\n",
              "      <td>Zimbabwe</td>\n",
              "      <td>ZWE</td>\n",
              "      <td>2015</td>\n",
              "      <td>1.73</td>\n",
              "    </tr>\n",
              "    <tr>\n",
              "      <th>3796</th>\n",
              "      <td>Zimbabwe</td>\n",
              "      <td>ZWE</td>\n",
              "      <td>2016</td>\n",
              "      <td>1.75</td>\n",
              "    </tr>\n",
              "    <tr>\n",
              "      <th>3797</th>\n",
              "      <td>Zimbabwe</td>\n",
              "      <td>ZWE</td>\n",
              "      <td>2017</td>\n",
              "      <td>1.75</td>\n",
              "    </tr>\n",
              "    <tr>\n",
              "      <th>3798</th>\n",
              "      <td>Zimbabwe</td>\n",
              "      <td>ZWE</td>\n",
              "      <td>2018</td>\n",
              "      <td>1.76</td>\n",
              "    </tr>\n",
              "    <tr>\n",
              "      <th>3799</th>\n",
              "      <td>Zimbabwe</td>\n",
              "      <td>ZWE</td>\n",
              "      <td>2019</td>\n",
              "      <td>1.79</td>\n",
              "    </tr>\n",
              "  </tbody>\n",
              "</table>\n",
              "<p>3800 rows × 4 columns</p>\n",
              "</div>\n",
              "    <div class=\"colab-df-buttons\">\n",
              "\n",
              "  <div class=\"colab-df-container\">\n",
              "    <button class=\"colab-df-convert\" onclick=\"convertToInteractive('df-041b22c0-2fde-43ea-9d2e-c53a740b917a')\"\n",
              "            title=\"Convert this dataframe to an interactive table.\"\n",
              "            style=\"display:none;\">\n",
              "\n",
              "  <svg xmlns=\"http://www.w3.org/2000/svg\" height=\"24px\" viewBox=\"0 -960 960 960\">\n",
              "    <path d=\"M120-120v-720h720v720H120Zm60-500h600v-160H180v160Zm220 220h160v-160H400v160Zm0 220h160v-160H400v160ZM180-400h160v-160H180v160Zm440 0h160v-160H620v160ZM180-180h160v-160H180v160Zm440 0h160v-160H620v160Z\"/>\n",
              "  </svg>\n",
              "    </button>\n",
              "\n",
              "  <style>\n",
              "    .colab-df-container {\n",
              "      display:flex;\n",
              "      gap: 12px;\n",
              "    }\n",
              "\n",
              "    .colab-df-convert {\n",
              "      background-color: #E8F0FE;\n",
              "      border: none;\n",
              "      border-radius: 50%;\n",
              "      cursor: pointer;\n",
              "      display: none;\n",
              "      fill: #1967D2;\n",
              "      height: 32px;\n",
              "      padding: 0 0 0 0;\n",
              "      width: 32px;\n",
              "    }\n",
              "\n",
              "    .colab-df-convert:hover {\n",
              "      background-color: #E2EBFA;\n",
              "      box-shadow: 0px 1px 2px rgba(60, 64, 67, 0.3), 0px 1px 3px 1px rgba(60, 64, 67, 0.15);\n",
              "      fill: #174EA6;\n",
              "    }\n",
              "\n",
              "    .colab-df-buttons div {\n",
              "      margin-bottom: 4px;\n",
              "    }\n",
              "\n",
              "    [theme=dark] .colab-df-convert {\n",
              "      background-color: #3B4455;\n",
              "      fill: #D2E3FC;\n",
              "    }\n",
              "\n",
              "    [theme=dark] .colab-df-convert:hover {\n",
              "      background-color: #434B5C;\n",
              "      box-shadow: 0px 1px 3px 1px rgba(0, 0, 0, 0.15);\n",
              "      filter: drop-shadow(0px 1px 2px rgba(0, 0, 0, 0.3));\n",
              "      fill: #FFFFFF;\n",
              "    }\n",
              "  </style>\n",
              "\n",
              "    <script>\n",
              "      const buttonEl =\n",
              "        document.querySelector('#df-041b22c0-2fde-43ea-9d2e-c53a740b917a button.colab-df-convert');\n",
              "      buttonEl.style.display =\n",
              "        google.colab.kernel.accessAllowed ? 'block' : 'none';\n",
              "\n",
              "      async function convertToInteractive(key) {\n",
              "        const element = document.querySelector('#df-041b22c0-2fde-43ea-9d2e-c53a740b917a');\n",
              "        const dataTable =\n",
              "          await google.colab.kernel.invokeFunction('convertToInteractive',\n",
              "                                                    [key], {});\n",
              "        if (!dataTable) return;\n",
              "\n",
              "        const docLinkHtml = 'Like what you see? Visit the ' +\n",
              "          '<a target=\"_blank\" href=https://colab.research.google.com/notebooks/data_table.ipynb>data table notebook</a>'\n",
              "          + ' to learn more about interactive tables.';\n",
              "        element.innerHTML = '';\n",
              "        dataTable['output_type'] = 'display_data';\n",
              "        await google.colab.output.renderOutput(dataTable, element);\n",
              "        const docLink = document.createElement('div');\n",
              "        docLink.innerHTML = docLinkHtml;\n",
              "        element.appendChild(docLink);\n",
              "      }\n",
              "    </script>\n",
              "  </div>\n",
              "\n",
              "\n",
              "<div id=\"df-87fad68d-b2e9-4e6e-8542-99715d4adab8\">\n",
              "  <button class=\"colab-df-quickchart\" onclick=\"quickchart('df-87fad68d-b2e9-4e6e-8542-99715d4adab8')\"\n",
              "            title=\"Suggest charts\"\n",
              "            style=\"display:none;\">\n",
              "\n",
              "<svg xmlns=\"http://www.w3.org/2000/svg\" height=\"24px\"viewBox=\"0 0 24 24\"\n",
              "     width=\"24px\">\n",
              "    <g>\n",
              "        <path d=\"M19 3H5c-1.1 0-2 .9-2 2v14c0 1.1.9 2 2 2h14c1.1 0 2-.9 2-2V5c0-1.1-.9-2-2-2zM9 17H7v-7h2v7zm4 0h-2V7h2v10zm4 0h-2v-4h2v4z\"/>\n",
              "    </g>\n",
              "</svg>\n",
              "  </button>\n",
              "\n",
              "<style>\n",
              "  .colab-df-quickchart {\n",
              "      --bg-color: #E8F0FE;\n",
              "      --fill-color: #1967D2;\n",
              "      --hover-bg-color: #E2EBFA;\n",
              "      --hover-fill-color: #174EA6;\n",
              "      --disabled-fill-color: #AAA;\n",
              "      --disabled-bg-color: #DDD;\n",
              "  }\n",
              "\n",
              "  [theme=dark] .colab-df-quickchart {\n",
              "      --bg-color: #3B4455;\n",
              "      --fill-color: #D2E3FC;\n",
              "      --hover-bg-color: #434B5C;\n",
              "      --hover-fill-color: #FFFFFF;\n",
              "      --disabled-bg-color: #3B4455;\n",
              "      --disabled-fill-color: #666;\n",
              "  }\n",
              "\n",
              "  .colab-df-quickchart {\n",
              "    background-color: var(--bg-color);\n",
              "    border: none;\n",
              "    border-radius: 50%;\n",
              "    cursor: pointer;\n",
              "    display: none;\n",
              "    fill: var(--fill-color);\n",
              "    height: 32px;\n",
              "    padding: 0;\n",
              "    width: 32px;\n",
              "  }\n",
              "\n",
              "  .colab-df-quickchart:hover {\n",
              "    background-color: var(--hover-bg-color);\n",
              "    box-shadow: 0 1px 2px rgba(60, 64, 67, 0.3), 0 1px 3px 1px rgba(60, 64, 67, 0.15);\n",
              "    fill: var(--button-hover-fill-color);\n",
              "  }\n",
              "\n",
              "  .colab-df-quickchart-complete:disabled,\n",
              "  .colab-df-quickchart-complete:disabled:hover {\n",
              "    background-color: var(--disabled-bg-color);\n",
              "    fill: var(--disabled-fill-color);\n",
              "    box-shadow: none;\n",
              "  }\n",
              "\n",
              "  .colab-df-spinner {\n",
              "    border: 2px solid var(--fill-color);\n",
              "    border-color: transparent;\n",
              "    border-bottom-color: var(--fill-color);\n",
              "    animation:\n",
              "      spin 1s steps(1) infinite;\n",
              "  }\n",
              "\n",
              "  @keyframes spin {\n",
              "    0% {\n",
              "      border-color: transparent;\n",
              "      border-bottom-color: var(--fill-color);\n",
              "      border-left-color: var(--fill-color);\n",
              "    }\n",
              "    20% {\n",
              "      border-color: transparent;\n",
              "      border-left-color: var(--fill-color);\n",
              "      border-top-color: var(--fill-color);\n",
              "    }\n",
              "    30% {\n",
              "      border-color: transparent;\n",
              "      border-left-color: var(--fill-color);\n",
              "      border-top-color: var(--fill-color);\n",
              "      border-right-color: var(--fill-color);\n",
              "    }\n",
              "    40% {\n",
              "      border-color: transparent;\n",
              "      border-right-color: var(--fill-color);\n",
              "      border-top-color: var(--fill-color);\n",
              "    }\n",
              "    60% {\n",
              "      border-color: transparent;\n",
              "      border-right-color: var(--fill-color);\n",
              "    }\n",
              "    80% {\n",
              "      border-color: transparent;\n",
              "      border-right-color: var(--fill-color);\n",
              "      border-bottom-color: var(--fill-color);\n",
              "    }\n",
              "    90% {\n",
              "      border-color: transparent;\n",
              "      border-bottom-color: var(--fill-color);\n",
              "    }\n",
              "  }\n",
              "</style>\n",
              "\n",
              "  <script>\n",
              "    async function quickchart(key) {\n",
              "      const quickchartButtonEl =\n",
              "        document.querySelector('#' + key + ' button');\n",
              "      quickchartButtonEl.disabled = true;  // To prevent multiple clicks.\n",
              "      quickchartButtonEl.classList.add('colab-df-spinner');\n",
              "      try {\n",
              "        const charts = await google.colab.kernel.invokeFunction(\n",
              "            'suggestCharts', [key], {});\n",
              "      } catch (error) {\n",
              "        console.error('Error during call to suggestCharts:', error);\n",
              "      }\n",
              "      quickchartButtonEl.classList.remove('colab-df-spinner');\n",
              "      quickchartButtonEl.classList.add('colab-df-quickchart-complete');\n",
              "    }\n",
              "    (() => {\n",
              "      let quickchartButtonEl =\n",
              "        document.querySelector('#df-87fad68d-b2e9-4e6e-8542-99715d4adab8 button');\n",
              "      quickchartButtonEl.style.display =\n",
              "        google.colab.kernel.accessAllowed ? 'block' : 'none';\n",
              "    })();\n",
              "  </script>\n",
              "</div>\n",
              "    </div>\n",
              "  </div>\n"
            ],
            "application/vnd.google.colaboratory.intrinsic+json": {
              "type": "dataframe",
              "variable_name": "who",
              "summary": "{\n  \"name\": \"who\",\n  \"rows\": 3800,\n  \"fields\": [\n    {\n      \"column\": \"Entity\",\n      \"properties\": {\n        \"dtype\": \"category\",\n        \"num_unique_values\": 190,\n        \"samples\": [\n          \"Turkmenistan\",\n          \"United States\",\n          \"Moldova\"\n        ],\n        \"semantic_type\": \"\",\n        \"description\": \"\"\n      }\n    },\n    {\n      \"column\": \"Code\",\n      \"properties\": {\n        \"dtype\": \"category\",\n        \"num_unique_values\": 184,\n        \"samples\": [\n          \"BOL\",\n          \"CYP\",\n          \"SDN\"\n        ],\n        \"semantic_type\": \"\",\n        \"description\": \"\"\n      }\n    },\n    {\n      \"column\": \"Year\",\n      \"properties\": {\n        \"dtype\": \"number\",\n        \"std\": 5,\n        \"min\": 2000,\n        \"max\": 2019,\n        \"num_unique_values\": 20,\n        \"samples\": [\n          2000,\n          2017,\n          2015\n        ],\n        \"semantic_type\": \"\",\n        \"description\": \"\"\n      }\n    },\n    {\n      \"column\": \"Death rate per 100,000 people - Cause: Mental and substance use disorders - Sex: Both sexes - Age group: ALLAges\",\n      \"properties\": {\n        \"dtype\": \"number\",\n        \"std\": 5.49235303232924,\n        \"min\": 0.12,\n        \"max\": 47.25,\n        \"num_unique_values\": 1173,\n        \"samples\": [\n          19.03,\n          1.56,\n          0.27\n        ],\n        \"semantic_type\": \"\",\n        \"description\": \"\"\n      }\n    }\n  ]\n}"
            }
          },
          "metadata": {},
          "execution_count": 5
        }
      ]
    },
    {
      "cell_type": "markdown",
      "source": [
        "\n",
        "**Analyze both datasets to compare how the WHO crude-rate data and IHME age-adjusted data paint different pictures of the global mental health/substance abuse landscape from the 1990s-2010s.**\n",
        "\n",
        "What are the most interesting conclusions/inferences that both datasets point to? What are the most interesting conclusions that one dataset points to while the other does not? Is the difference simply explained by age standardization? If you believe so, justify your answer? If not, why not? And for each specific conclusion where the two datasets are in disagreement, which way of reporting death rates (age-adjusted or crude) do you think is more relevant for public health policy makers? Why?\n",
        "\n",
        "**If there are other relevant datasets on OurWorldinData or elsewhere, feel free to bring those into your analysis. Please make sure to generate relevant data visualizations to support your claims.**\n",
        "\n",
        "**Note**: We appreciate data visualizations that are aesthetically appealing and interesting, so a thank you in advance to those who go beyond line graphs and bar graphs on matplotlib."
      ],
      "metadata": {
        "id": "BqFaqSutlEHs"
      }
    },
    {
      "cell_type": "code",
      "source": [
        "# write your code here; make sure to add lots of comments explaining your code\n",
        "\n"
      ],
      "metadata": {
        "id": "lTCnWWUkXG4_"
      },
      "execution_count": null,
      "outputs": []
    },
    {
      "cell_type": "markdown",
      "source": [
        "(Detail your inferences and the relevant discussion here)\n",
        "\n"
      ],
      "metadata": {
        "id": "X4rbOsGSmUU9"
      }
    },
    {
      "cell_type": "markdown",
      "source": [
        "## Task 6."
      ],
      "metadata": {
        "id": "uVgKg8-QJX37"
      }
    },
    {
      "cell_type": "markdown",
      "source": [
        "Consider [the image of a dog](https://upload.wikimedia.org/wikipedia/commons/thumb/2/26/YellowLabradorLooking_new.jpg/250px-YellowLabradorLooking_new.jpg) that we load into the notebook below:"
      ],
      "metadata": {
        "id": "Wl-OhQCCJc-z"
      }
    },
    {
      "cell_type": "code",
      "source": [
        "from urllib.request import urlopen\n",
        "from PIL import Image\n",
        "\n",
        "image_url = 'https://upload.wikimedia.org/wikipedia/commons/thumb/2/26/YellowLabradorLooking_new.jpg/250px-YellowLabradorLooking_new.jpg'\n",
        "img = Image.open(urlopen(image_url))\n",
        "img"
      ],
      "metadata": {
        "colab": {
          "base_uri": "https://localhost:8080/",
          "height": 223
        },
        "id": "4l62NhQzPf5P",
        "outputId": "a4ea3cfa-2c94-4ebc-d953-5e90c7e0954f"
      },
      "execution_count": null,
      "outputs": [
        {
          "output_type": "execute_result",
          "data": {
            "text/plain": [
              "<PIL.JpegImagePlugin.JpegImageFile image mode=RGB size=250x206>"
            ],
            "image/png": "[encoded data removed]"
          },
          "metadata": {},
          "execution_count": 29
        }
      ]
    },
    {
      "cell_type": "markdown",
      "source": [
        "Now let's try and see how this image is classified by an image classifier trained on ImageNet data. For this we first need to install and import some relevant packages."
      ],
      "metadata": {
        "id": "JNmqGLFEQGUJ"
      }
    },
    {
      "cell_type": "code",
      "source": [
        "!pip install torchvision\n",
        "\n",
        "from torchvision import models\n",
        "import torch\n",
        "import numpy as np"
      ],
      "metadata": {
        "id": "u9GyA0DbQ-GS",
        "colab": {
          "base_uri": "https://localhost:8080/"
        },
        "outputId": "20817534-18ba-4f41-e10f-a0df409dc426"
      },
      "execution_count": null,
      "outputs": [
        {
          "output_type": "stream",
          "name": "stdout",
          "text": [
            "Requirement already satisfied: torchvision in /usr/local/lib/python3.10/dist-packages (0.17.1+cu121)\n",
            "Requirement already satisfied: numpy in /usr/local/lib/python3.10/dist-packages (from torchvision) (1.25.2)\n",
            "Requirement already satisfied: torch==2.2.1 in /usr/local/lib/python3.10/dist-packages (from torchvision) (2.2.1+cu121)\n",
            "Requirement already satisfied: pillow!=8.3.*,>=5.3.0 in /usr/local/lib/python3.10/dist-packages (from torchvision) (9.4.0)\n",
            "Requirement already satisfied: filelock in /usr/local/lib/python3.10/dist-packages (from torch==2.2.1->torchvision) (3.14.0)\n",
            "Requirement already satisfied: typing-extensions>=4.8.0 in /usr/local/lib/python3.10/dist-packages (from torch==2.2.1->torchvision) (4.11.0)\n",
            "Requirement already satisfied: sympy in /usr/local/lib/python3.10/dist-packages (from torch==2.2.1->torchvision) (1.12)\n",
            "Requirement already satisfied: networkx in /usr/local/lib/python3.10/dist-packages (from torch==2.2.1->torchvision) (3.3)\n",
            "Requirement already satisfied: jinja2 in /usr/local/lib/python3.10/dist-packages (from torch==2.2.1->torchvision) (3.1.3)\n",
            "Requirement already satisfied: fsspec in /usr/local/lib/python3.10/dist-packages (from torch==2.2.1->torchvision) (2023.6.0)\n",
            "Requirement already satisfied: nvidia-cuda-nvrtc-cu12==12.1.105 in /usr/local/lib/python3.10/dist-packages (from torch==2.2.1->torchvision) (12.1.105)\n",
            "Requirement already satisfied: nvidia-cuda-runtime-cu12==12.1.105 in /usr/local/lib/python3.10/dist-packages (from torch==2.2.1->torchvision) (12.1.105)\n",
            "Requirement already satisfied: nvidia-cuda-cupti-cu12==12.1.105 in /usr/local/lib/python3.10/dist-packages (from torch==2.2.1->torchvision) (12.1.105)\n",
            "Requirement already satisfied: nvidia-cudnn-cu12==8.9.2.26 in /usr/local/lib/python3.10/dist-packages (from torch==2.2.1->torchvision) (8.9.2.26)\n",
            "Requirement already satisfied: nvidia-cublas-cu12==12.1.3.1 in /usr/local/lib/python3.10/dist-packages (from torch==2.2.1->torchvision) (12.1.3.1)\n",
            "Requirement already satisfied: nvidia-cufft-cu12==11.0.2.54 in /usr/local/lib/python3.10/dist-packages (from torch==2.2.1->torchvision) (11.0.2.54)\n",
            "Requirement already satisfied: nvidia-curand-cu12==10.3.2.106 in /usr/local/lib/python3.10/dist-packages (from torch==2.2.1->torchvision) (10.3.2.106)\n",
            "Requirement already satisfied: nvidia-cusolver-cu12==11.4.5.107 in /usr/local/lib/python3.10/dist-packages (from torch==2.2.1->torchvision) (11.4.5.107)\n",
            "Requirement already satisfied: nvidia-cusparse-cu12==12.1.0.106 in /usr/local/lib/python3.10/dist-packages (from torch==2.2.1->torchvision) (12.1.0.106)\n",
            "Requirement already satisfied: nvidia-nccl-cu12==2.19.3 in /usr/local/lib/python3.10/dist-packages (from torch==2.2.1->torchvision) (2.19.3)\n",
            "Requirement already satisfied: nvidia-nvtx-cu12==12.1.105 in /usr/local/lib/python3.10/dist-packages (from torch==2.2.1->torchvision) (12.1.105)\n",
            "Requirement already satisfied: triton==2.2.0 in /usr/local/lib/python3.10/dist-packages (from torch==2.2.1->torchvision) (2.2.0)\n",
            "Requirement already satisfied: nvidia-nvjitlink-cu12 in /usr/local/lib/python3.10/dist-packages (from nvidia-cusolver-cu12==11.4.5.107->torch==2.2.1->torchvision) (12.4.127)\n",
            "Requirement already satisfied: MarkupSafe>=2.0 in /usr/local/lib/python3.10/dist-packages (from jinja2->torch==2.2.1->torchvision) (2.1.5)\n",
            "Requirement already satisfied: mpmath>=0.19 in /usr/local/lib/python3.10/dist-packages (from sympy->torch==2.2.1->torchvision) (1.3.0)\n"
          ]
        }
      ]
    },
    {
      "cell_type": "markdown",
      "source": [
        "We'll be using [AlexNet](https://en.wikipedia.org/wiki/AlexNet) for our purposes here."
      ],
      "metadata": {
        "id": "31JggIEsnHFZ"
      }
    },
    {
      "cell_type": "code",
      "source": [
        "alexnet = models.alexnet(weights='DEFAULT') # intitialize alexnet with default parameter weights\n",
        "\n",
        "# defines a transform that turns images into tensors of the appropriate size, with normalized rgb values\n",
        "from torchvision import transforms\n",
        "transform = transforms.Compose([\n",
        " transforms.Resize(256),\n",
        " transforms.CenterCrop(224),\n",
        " transforms.ToTensor(),\n",
        " transforms.Normalize(\n",
        " mean=[0.485, 0.456, 0.406],\n",
        " std=[0.229, 0.224, 0.225]\n",
        " )])\n",
        "\n",
        "img_t = transform(img) # applys transform to our image\n",
        "batch_t = torch.unsqueeze(img_t, 0) # adds an extra dimension of length one to our tensor to turn our image into a batch of one image\n",
        "\n",
        "alexnet.eval() # set the model to evaluation mode\n",
        "out = alexnet(batch_t) # alexnet classifies our batch (with just one image)\n",
        "p = torch.nn.functional.softmax(out, dim=1)[0].detach().numpy() # yields an array of probabilities associated with each of the possible classifications"
      ],
      "metadata": {
        "id": "VhwaZYggQsdM"
      },
      "execution_count": null,
      "outputs": []
    },
    {
      "cell_type": "markdown",
      "source": [
        "We have the classification probabilities outputted by AlexNet, so let's now check that against the classifications list to see if it makes sense!"
      ],
      "metadata": {
        "id": "duyQ7nb_nRTJ"
      }
    },
    {
      "cell_type": "code",
      "source": [
        "# loads in the 1000 image net classifications\n",
        "categories_url = 'https://gist.githubusercontent.com/yrevar/942d3a0ac09ec9e5eb3a/raw/238f720ff059c1f82f368259d1ca4ffa5dd8f9f5/imagenet1000_clsidx_to_labels.txt'\n",
        "response = urlopen(categories_url).read().decode('UTF-8')\n",
        "\n",
        "classes = eval(response).values() # extracts just the names of the classifications as a list\n",
        "classes_sorted = [x for _, x in sorted(zip(p, classes),reverse=True)] # sorts them by the probabilities outputted by AlexNet, in descending order\n",
        "\n",
        "class_prob = dict(zip(classes_sorted,np.flip(np.sort(p)))) # constructs a dictionary pairing classifications with probabilities.\n",
        "\n",
        "# prints the 10 most likely classifications, along with their probabilities expressed as a percentage\n",
        "for i in range(10):\n",
        "  print(classes_sorted[i], ':', f\"{100*class_prob[classes_sorted[i]]:.1f}%\")"
      ],
      "metadata": {
        "colab": {
          "base_uri": "https://localhost:8080/"
        },
        "id": "atSUh3g3WaLO",
        "outputId": "c8ab83ec-ffde-463b-89f6-dc2d0038df30"
      },
      "execution_count": null,
      "outputs": [
        {
          "output_type": "stream",
          "name": "stdout",
          "text": [
            "Labrador retriever : 28.8%\n",
            "Saluki, gazelle hound : 22.7%\n",
            "whippet : 13.0%\n",
            "bull mastiff : 7.6%\n",
            "golden retriever : 6.6%\n",
            "Ibizan hound, Ibizan Podenco : 2.8%\n",
            "dingo, warrigal, warragal, Canis dingo : 2.3%\n",
            "Great Dane : 1.3%\n",
            "Walker hound, Walker foxhound : 1.2%\n",
            "kuvasz : 1.2%\n"
          ]
        }
      ]
    },
    {
      "cell_type": "markdown",
      "source": [
        "Not bad! All of its top 10 classifications are dogs, and the top one appears to be the correct breed! Now we come to the task at hand ..."
      ],
      "metadata": {
        "id": "eMTbNKK8n62r"
      }
    },
    {
      "cell_type": "markdown",
      "source": [
        "**A)** Some of the pixels in `img` were more important for AlexNet's successful classification than others. Come up with a way to quantify which pixels were more important and which were less important to the classification. Write code that does this analysis, such that at the end of your code, each pixel is assigned a numerical value associated with its relative importance for the classification."
      ],
      "metadata": {
        "id": "AiQSmCraoStx"
      }
    },
    {
      "cell_type": "code",
      "source": [
        "# write your code here; make sure to add lots of comments explaining your code\n"
      ],
      "metadata": {
        "id": "pDc4At68pqfw"
      },
      "execution_count": null,
      "outputs": []
    },
    {
      "cell_type": "markdown",
      "source": [
        "**B)** Since you've assigned a relative importance value to each pixel, we can actually visualize this itself as an image, for instance using `matplotlib.pyplot.imshow()`. How does the image look to you? Does it surprise you? Does what you see suggest anything interesting about the nature of image classification, or cognition, or even of nature itself?"
      ],
      "metadata": {
        "id": "AP92y2nypqQx"
      }
    },
    {
      "cell_type": "code",
      "source": [
        "# write your code here; make sure to add lots of comments explaining your code\n"
      ],
      "metadata": {
        "id": "nlqnbWASrLqT"
      },
      "execution_count": null,
      "outputs": []
    },
    {
      "cell_type": "markdown",
      "source": [
        "(Detail your reflections here.)"
      ],
      "metadata": {
        "id": "l_uRcxvNrMBm"
      }
    }
  ]
}