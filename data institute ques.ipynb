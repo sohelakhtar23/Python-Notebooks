{
 "cells": [
  {
   "cell_type": "code",
   "execution_count": 3,
   "metadata": {},
   "outputs": [
    {
     "name": "stdout",
     "output_type": "stream",
     "text": [
      "Io__oa\n"
     ]
    }
   ],
   "source": [
    "# make sure to add lots of comments explaining your code!\n",
    "\n",
    "def n_step_encrypt(phrase: str, n: int):\n",
    "    # write your code here\n",
    "    groups = ['' *n]\n",
    "    for i in range(len(phrase)):\n",
    "        if i%n == 0:\n",
    "            g1 += phrase[i]\n",
    "    print(g1)\n",
    "    # return \"\"\n",
    "\n",
    "n_step_encrypt('I_love_to_program!', 3)"
   ]
  },
  {
   "cell_type": "code",
   "execution_count": 13,
   "metadata": {},
   "outputs": [
    {
     "name": "stdout",
     "output_type": "stream",
     "text": [
      "Iepa__rmlto!oogv_r\n"
     ]
    }
   ],
   "source": [
    "def n_step_encrypt(phrase: str, n: int) -> str:\n",
    "    \"\"\"\n",
    "    Encrypts the given phrase by rearranging the characters based on step size n.\n",
    "    \n",
    "    Parameters:\n",
    "    phrase (str): The input string to be encrypted.\n",
    "    n (int): The step size to group the characters.\n",
    "    \n",
    "    Returns:\n",
    "    str: The encrypted message.\n",
    "    \"\"\"\n",
    "    # Initialize a list to hold groups of characters\n",
    "    groups = [''] * n\n",
    "    \n",
    "    # Iterate over the phrase, adding each character to the appropriate group\n",
    "    for index, char in enumerate(phrase):\n",
    "        # Determine the group for the current character\n",
    "        group_index = index % n\n",
    "        # Append the character to the appropriate group\n",
    "        groups[group_index] += char\n",
    "    \n",
    "    # Combine all groups into a single string\n",
    "    encrypted_message = ''.join(groups)\n",
    "    \n",
    "    return encrypted_message\n",
    "\n",
    "# Test the function with the example provided\n",
    "print(n_step_encrypt('I_love_to_program!', 5))  # Expected output: 'Io__oa_vtpgmleorr!'"
   ]
  },
  {
   "cell_type": "code",
   "execution_count": 14,
   "metadata": {},
   "outputs": [
    {
     "name": "stdout",
     "output_type": "stream",
     "text": [
      "Io__oa_vtpgmleorr!\n"
     ]
    }
   ],
   "source": [
    "def n_step_encrypt(phrase: str, n: int) -> str:\n",
    "    \"\"\"\n",
    "    Encrypts the given phrase by rearranging the characters based on step size n.\n",
    "    \n",
    "    Parameters:\n",
    "    phrase (str): The input string to be encrypted.\n",
    "    n (int): The step size to group the characters.\n",
    "    \n",
    "    Returns:\n",
    "    str: The encrypted message.\n",
    "    \"\"\"\n",
    "    # Create a list of strings for each group\n",
    "    groups = [''] * n\n",
    "    \n",
    "    # Loop through each character in the phrase\n",
    "    for i in range(len(phrase)):\n",
    "        # Determine the group index based on the current position and step size\n",
    "        group_index = i % n\n",
    "        # Append the character to the corresponding group\n",
    "        groups[group_index] += phrase[i]\n",
    "    \n",
    "    # Concatenate all groups to form the final encrypted message\n",
    "    encrypted_message = ''.join(groups)\n",
    "    \n",
    "    return encrypted_message\n",
    "\n",
    "# Test the function with the example provided\n",
    "print(n_step_encrypt('I_love_to_program!', 3))  # Expected output: 'Io__oa_vtpgmleorr!'"
   ]
  },
  {
   "cell_type": "code",
   "execution_count": null,
   "metadata": {},
   "outputs": [],
   "source": [
    "# make sure to add lots of comments explaining your code!\n",
    "\n",
    "def n_step_decrypt(phrase: str, n: int):\n",
    "    # write your code here\n",
    "    return \"\"\n",
    "\n",
    "n_step_decrypt('Io__oa_vtpgmleorr!', 3)"
   ]
  },
  {
   "cell_type": "code",
   "execution_count": null,
   "metadata": {},
   "outputs": [],
   "source": []
  },
  {
   "cell_type": "code",
   "execution_count": null,
   "metadata": {},
   "outputs": [],
   "source": []
  },
  {
   "cell_type": "code",
   "execution_count": 1,
   "metadata": {},
   "outputs": [
    {
     "name": "stdout",
     "output_type": "stream",
     "text": [
      "[1, 2, 3, 20, 21]\n"
     ]
    }
   ],
   "source": [
    "l1 = [1, 2, 3]\n",
    "l2 = [20, 21]\n",
    "\n",
    "l1\n",
    "print(l1+l2)"
   ]
  },
  {
   "cell_type": "code",
   "execution_count": null,
   "metadata": {},
   "outputs": [],
   "source": []
  }
 ],
 "metadata": {
  "kernelspec": {
   "display_name": "Python 3",
   "language": "python",
   "name": "python3"
  },
  "language_info": {
   "codemirror_mode": {
    "name": "ipython",
    "version": 3
   },
   "file_extension": ".py",
   "mimetype": "text/x-python",
   "name": "python",
   "nbconvert_exporter": "python",
   "pygments_lexer": "ipython3",
   "version": "3.12.2"
  }
 },
 "nbformat": 4,
 "nbformat_minor": 2
}
