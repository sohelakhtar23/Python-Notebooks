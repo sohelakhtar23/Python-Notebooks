{
 "cells": [
  {
   "cell_type": "code",
   "execution_count": 1,
   "metadata": {},
   "outputs": [],
   "source": [
    "import pymysql\n",
    "import json"
   ]
  },
  {
   "cell_type": "code",
   "execution_count": 2,
   "metadata": {},
   "outputs": [],
   "source": [
    "# Read JSON data from file\n",
    "with open('workflow.json') as f:\n",
    "    data = json.load(f)"
   ]
  },
  {
   "cell_type": "markdown",
   "metadata": {},
   "source": [
    "## Checking whether connection with DB is being established or not"
   ]
  },
  {
   "cell_type": "code",
   "execution_count": null,
   "metadata": {},
   "outputs": [
    {
     "name": "stdout",
     "output_type": "stream",
     "text": [
      "Connection to MySQL database established successfully.\n"
     ]
    }
   ],
   "source": [
    "# Connect to MySQL\n",
    "connection = pymysql.connect(host='localhost', user='root', password='root@23', db='model', charset='utf8mb4', cursorclass=pymysql.cursors.DictCursor)\n",
    "print(\"Connection to MySQL database established successfully.\")"
   ]
  },
  {
   "cell_type": "code",
   "execution_count": null,
   "metadata": {},
   "outputs": [],
   "source": [
    "try:\n",
    "    with connection.cursor() as cursor:\n",
    "        # Iterate through JSON data and insert into MySQL\n",
    "        for key, value in data.items():\n",
    "            workflow_id = value['workflow_id']\n",
    "            project = value['project']\n",
    "            workflow_name = value['workflow_name']\n",
    "            description = value['description']\n",
    "            \n",
    "            # Insert data into MySQL\n",
    "            sql = \"INSERT INTO workflow (workflow_id, project, workflow_name, workflow_description) VALUES (%s, %s, %s, %s)\"\n",
    "            cursor.execute(sql, (workflow_id, project, workflow_name, description))\n",
    "    \n",
    "    # Commit the transaction\n",
    "    connection.commit()\n",
    "\n",
    "except Exception as e:\n",
    "    print(f\"Error: {e}\")\n",
    "    # Rollback in case of any error\n",
    "    connection.rollback()\n",
    "\n",
    "finally:\n",
    "    if connection.open:\n",
    "        # Close the connection if it's still open\n",
    "        connection.close()"
   ]
  }
 ],
 "metadata": {
  "kernelspec": {
   "display_name": "Python 3",
   "language": "python",
   "name": "python3"
  },
  "language_info": {
   "codemirror_mode": {
    "name": "ipython",
    "version": 3
   },
   "file_extension": ".py",
   "mimetype": "text/x-python",
   "name": "python",
   "nbconvert_exporter": "python",
   "pygments_lexer": "ipython3",
   "version": "3.12.2"
  }
 },
 "nbformat": 4,
 "nbformat_minor": 2
}
