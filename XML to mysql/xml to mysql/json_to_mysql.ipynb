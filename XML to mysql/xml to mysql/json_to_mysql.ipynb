{
 "cells": [
  {
   "cell_type": "code",
   "execution_count": 1,
   "metadata": {},
   "outputs": [],
   "source": [
    "import pymysql\n",
    "import json\n",
    "\n",
    "# Read JSON data from file\n",
    "with open('model_output.json') as f:\n",
    "    data = json.load(f)"
   ]
  },
  {
   "cell_type": "code",
   "execution_count": 2,
   "metadata": {},
   "outputs": [
    {
     "name": "stdout",
     "output_type": "stream",
     "text": [
      "Connection to MySQL database established successfully.\n"
     ]
    }
   ],
   "source": [
    "# Connect to MySQL\n",
    "connection = pymysql.connect(host='localhost', user='root', password='root@23', db='model', charset='utf8mb4', cursorclass=pymysql.cursors.DictCursor)\n",
    "print(\"Connection to MySQL database established successfully.\")"
   ]
  },
  {
   "cell_type": "markdown",
   "metadata": {},
   "source": [
    "# model DB auto increment"
   ]
  },
  {
   "cell_type": "code",
   "execution_count": 3,
   "metadata": {},
   "outputs": [],
   "source": [
    "# Connect to MySQL\n",
    "connection = pymysql.connect(host='localhost', user='root', password='root@23', db='model', charset='utf8mb4', cursorclass=pymysql.cursors.DictCursor)\n",
    "\n",
    "try:\n",
    "    with connection.cursor() as cursor:\n",
    "        # Insert data into `workflow` table\n",
    "        for i, workflow_data in data.items():\n",
    "            workflow_sql = \"INSERT INTO workflow (workflow_name, project, workflow_description) VALUES (%s, %s, %s)\"\n",
    "            cursor.execute(workflow_sql, (workflow_data['workflow_name'], workflow_data['project'], workflow_data['workflow_description']))\n",
    "            workflow_id = cursor.lastrowid\n",
    "            \n",
    "            # Insert data into `task` table\n",
    "            for j, task_data in workflow_data['tasks'].items():\n",
    "                task_sql = \"INSERT INTO task (workflow_id, task_type, name, task_name, execution_order) VALUES (%s, %s, %s, %s, %s)\"\n",
    "                cursor.execute(task_sql, (workflow_id, task_data['task_type'], task_data['name'], task_data['task_name'], task_data['execution_order']))\n",
    "                task_id = cursor.lastrowid\n",
    "                \n",
    "                # Insert data into `mapping` table\n",
    "                mapping_data = task_data['mapping']\n",
    "                if not mapping_data:\n",
    "                    continue\n",
    "                # print(f\"TAsk id: {j}\")\n",
    "\n",
    "                mapping_sql = \"INSERT INTO mapping (task_id, mapping_name, mapping_description) VALUES (%s, %s, %s)\"\n",
    "                cursor.execute(mapping_sql, (task_id, mapping_data['mapping_name'], mapping_data['mapping_description']))\n",
    "                mapping_id = cursor.lastrowid\n",
    "                \n",
    "\n",
    "                # Insert data into `instance` table\n",
    "                for k, instance_data in mapping_data['instances'].items():\n",
    "                    # print(f\"Instance id: {k}\")\n",
    "                    instance_sql = \"INSERT INTO instance (mapping_id, instance_name, transformation_type, transformation_name, execution_order) VALUES (%s, %s, %s, %s, %s)\"\n",
    "                    cursor.execute(instance_sql, (mapping_id, instance_data['instance_name'], instance_data['transformation_type'], instance_data['transformation_name'], instance_data['execution_order']))\n",
    "                    instance_id = cursor.lastrowid\n",
    "                    \n",
    "                    # Insert data into `field` table\n",
    "                    for field_data in instance_data['fields']:\n",
    "                        field_sql = \"INSERT INTO field (instance_id, field_name, field_type, is_input, is_output, is_lookup) VALUES (%s, %s, %s, %s, %s, %s)\"\n",
    "                        # cursor.execute(field_sql, (instance_id, field_data['field_name'], field_data['field_type'], \"1\" if field_data['is_input']==\"TRUE\" else \"0\", \"1\" if field_data['is_output']==\"TRUE\" else \"0\", \"1\" if field_data['is_lookup']==\"TRUE\" else \"0\"))\n",
    "                        cursor.execute(field_sql, (instance_id, field_data['field_name'], field_data['field_type'], field_data['port_values']['is_input'], field_data['port_values']['is_output'], field_data['port_values']['is_lookup']))\n",
    "                        \n",
    "\n",
    "    # Commit the transaction\n",
    "    connection.commit()\n",
    "\n",
    "except Exception as e:\n",
    "    print(f\"Error: {e}\")\n",
    "    # Rollback in case of any error\n",
    "    connection.rollback()\n",
    "\n",
    "finally:\n",
    "    connection.close()\n"
   ]
  },
  {
   "cell_type": "code",
   "execution_count": null,
   "metadata": {},
   "outputs": [],
   "source": []
  }
 ],
 "metadata": {
  "kernelspec": {
   "display_name": "Python 3",
   "language": "python",
   "name": "python3"
  },
  "language_info": {
   "codemirror_mode": {
    "name": "ipython",
    "version": 3
   },
   "file_extension": ".py",
   "mimetype": "text/x-python",
   "name": "python",
   "nbconvert_exporter": "python",
   "pygments_lexer": "ipython3",
   "version": "3.12.2"
  }
 },
 "nbformat": 4,
 "nbformat_minor": 2
}
